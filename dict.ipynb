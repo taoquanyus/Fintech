{
 "cells": [
  {
   "cell_type": "code",
   "execution_count": 19,
   "metadata": {},
   "outputs": [],
   "source": [
    "import os\n",
    "import numpy as np\n",
    "import pandas as pd\n",
    "import matplotlib.pyplot as plt\n",
    "import seaborn as sns"
   ]
  },
  {
   "cell_type": "code",
   "execution_count": 2,
   "metadata": {},
   "outputs": [
    {
     "data": {
      "text/plain": [
       "['sample_submit.txt', 'train.xlsx', 'feature_explain.xlsx', 'test_a.xlsx']"
      ]
     },
     "execution_count": 2,
     "metadata": {},
     "output_type": "execute_result"
    }
   ],
   "source": [
    "os.listdir('./inputs/')"
   ]
  },
  {
   "cell_type": "code",
   "execution_count": 3,
   "metadata": {},
   "outputs": [
    {
     "name": "stdout",
     "output_type": "stream",
     "text": [
      "(40000, 51) (12000, 50) (5, 2)\n"
     ]
    }
   ],
   "source": [
    "train = pd.read_excel('inputs/train.xlsx')\n",
    "test =  pd.read_excel('inputs/test_a.xlsx')\n",
    "submission = pd.read_fwf('inputs/sample_submit.txt')\n",
    "print(train.shape, test.shape, submission.shape)"
   ]
  },
  {
   "cell_type": "code",
   "execution_count": 4,
   "metadata": {},
   "outputs": [],
   "source": [
    "# 字典编码\n",
    "def change_object_cols(se):\n",
    "    value = se.unique().tolist()\n",
    "    value.sort\n",
    "    return se.map(pd.Series(range(len(value)), index=value)).values"
   ]
  },
  {
   "cell_type": "code",
   "execution_count": 5,
   "metadata": {},
   "outputs": [
    {
     "name": "stdout",
     "output_type": "stream",
     "text": [
      "Column: AGN_CNT_RCT_12_MON  Description: Numerical\n",
      "Column: ICO_CUR_MON_ACM_TRX_TM  Description: Numerical\n",
      "Column: NB_RCT_3_MON_LGN_TMS_AGV  Description: Numerical\n",
      "Column: AGN_CUR_YEAR_AMT  Description: Numerical\n",
      "Column: AGN_CUR_YEAR_WAG_AMT  Description: Numerical\n",
      "Column: AGN_AGR_LATEST_AGN_AMT  Description: Numerical\n",
      "Column: ICO_CUR_MON_ACM_TRX_AMT  Description: Numerical\n",
      "Column: COUNTER_CUR_YEAR_CNT_AMT  Description: Numerical\n",
      "Column: PUB_TO_PRV_TRX_AMT_CUR_YEAR  Description: Numerical\n",
      "Column: MON_12_EXT_SAM_TRSF_IN_AMT  Description: Numerical\n",
      "Column: MON_12_EXT_SAM_TRSF_OUT_AMT  Description: Numerical\n",
      "Column: MON_12_EXT_SAM_NM_TRSF_OUT_CNT  Description: Numerical\n",
      "Column: MON_12_EXT_SAM_AMT  Description: Numerical\n",
      "Column: CUR_MON_EXT_SAM_CUST_TRSF_IN_AMT  Description: Numerical\n",
      "Column: CUR_MON_EXT_SAM_CUST_TRSF_OUT_AMT  Description: Numerical\n",
      "Column: MON_12_CUST_CNT_PTY_ID  Description: Categorical\n",
      "Column: MON_12_TRX_AMT_MAX_AMT_PCTT  Description: Numerical\n",
      "Column: CUR_YEAR_MON_AGV_TRX_CNT  Description: Numerical\n",
      "Column: MON_12_AGV_TRX_CNT  Description: Numerical\n",
      "Column: MON_12_ACM_ENTR_ACT_CNT  Description: Numerical\n",
      "Column: MON_12_AGV_ENTR_ACT_CNT  Description: Numerical\n",
      "Column: MON_12_ACM_LVE_ACT_CNT  Description: Numerical\n",
      "Column: MON_12_AGV_LVE_ACT_CNT  Description: Numerical\n",
      "Column: CUR_YEAR_PUB_TO_PRV_TRX_PTY_CNT  Description: Numerical\n",
      "Column: MON_6_50_UP_ENTR_ACT_CNT  Description: Numerical\n",
      "Column: MON_6_50_UP_LVE_ACT_CNT  Description: Numerical\n",
      "Column: CUR_YEAR_COUNTER_ENCASH_CNT  Description: Numerical\n",
      "Column: MON_12_ACT_OUT_50_UP_CNT_PTY_QTY  Description: Numerical\n",
      "Column: MON_12_ACT_IN_50_UP_CNT_PTY_QTY  Description: Numerical\n",
      "Column: LAST_12_MON_COR_DPS_TM_PNT_BAL_PEAK_VAL  Description: Numerical\n",
      "Column: LAST_12_MON_COR_DPS_DAY_AVG_BAL  Description: Numerical\n",
      "Column: CUR_MON_COR_DPS_MON_DAY_AVG_BAL  Description: Numerical\n",
      "Column: CUR_YEAR_COR_DMND_DPS_DAY_AVG_BAL  Description: Numerical\n",
      "Column: CUR_YEAR_COR_DPS_YEAR_DAY_AVG_INCR  Description: Numerical\n",
      "Column: LAST_12_MON_DIF_NM_MON_AVG_TRX_AMT_NAV  Description: Numerical\n",
      "Column: LAST_12_MON_MON_AVG_TRX_AMT_NAV  Description: Numerical\n",
      "Column: COR_KEY_PROD_HLD_NBR  Description: Numerical\n",
      "Column: CUR_YEAR_MID_BUS_INC  Description: Numerical\n",
      "Column: AI_STAR_SCO  Description: Categorical\n",
      "Column: WTHR_OPN_ONL_ICO  Description: Categorical\n",
      "Column: EMP_NBR  Description: Numerical\n",
      "Column: REG_CPT  Description: Numerical\n",
      "Column: SHH_BCK  Description: Categorical\n",
      "Column: HLD_DMS_CCY_ACT_NBR  Description: Numerical\n",
      "Column: REG_DT  Description: Numerical\n",
      "Column: LGP_HLD_CARD_LVL  Description: Categorical\n",
      "Column: OPN_TM  Description: Numerical\n",
      "Column: NB_CTC_HLD_IDV_AIO_CARD_SITU  Description: Categorical\n",
      "Column: HLD_FGN_CCY_ACT_NBR  Description: Numerical\n"
     ]
    }
   ],
   "source": [
    "df = pd.read_excel('inputs/feature_explain.xlsx', sheet_name='train', skiprows=2)\n",
    "index_num = 0\n",
    "index_category = 0\n",
    "for va in df.values:\n",
    "    print('Column:', va[0], ' Description:', va[1])"
   ]
  },
  {
   "cell_type": "code",
   "execution_count": 6,
   "metadata": {},
   "outputs": [
    {
     "name": "stdout",
     "output_type": "stream",
     "text": [
      "AGN_CNT_RCT_12_MON  0\n",
      "ICO_CUR_MON_ACM_TRX_TM  1\n",
      "NB_RCT_3_MON_LGN_TMS_AGV  2\n",
      "AGN_CUR_YEAR_AMT  3\n",
      "AGN_CUR_YEAR_WAG_AMT  4\n",
      "AGN_AGR_LATEST_AGN_AMT  5\n",
      "ICO_CUR_MON_ACM_TRX_AMT  6\n",
      "COUNTER_CUR_YEAR_CNT_AMT  7\n",
      "PUB_TO_PRV_TRX_AMT_CUR_YEAR  8\n",
      "MON_12_EXT_SAM_TRSF_IN_AMT  9\n",
      "MON_12_EXT_SAM_TRSF_OUT_AMT  10\n",
      "MON_12_EXT_SAM_NM_TRSF_OUT_CNT  11\n",
      "MON_12_EXT_SAM_AMT  12\n",
      "CUR_MON_EXT_SAM_CUST_TRSF_IN_AMT  13\n",
      "CUR_MON_EXT_SAM_CUST_TRSF_OUT_AMT  14\n",
      "MON_12_TRX_AMT_MAX_AMT_PCTT  15\n",
      "CUR_YEAR_MON_AGV_TRX_CNT  16\n",
      "MON_12_AGV_TRX_CNT  17\n",
      "MON_12_ACM_ENTR_ACT_CNT  18\n",
      "MON_12_AGV_ENTR_ACT_CNT  19\n",
      "MON_12_ACM_LVE_ACT_CNT  20\n",
      "MON_12_AGV_LVE_ACT_CNT  21\n",
      "CUR_YEAR_PUB_TO_PRV_TRX_PTY_CNT  22\n",
      "MON_6_50_UP_ENTR_ACT_CNT  23\n",
      "MON_6_50_UP_LVE_ACT_CNT  24\n",
      "CUR_YEAR_COUNTER_ENCASH_CNT  25\n",
      "MON_12_ACT_OUT_50_UP_CNT_PTY_QTY  26\n",
      "MON_12_ACT_IN_50_UP_CNT_PTY_QTY  27\n",
      "LAST_12_MON_COR_DPS_TM_PNT_BAL_PEAK_VAL  28\n",
      "LAST_12_MON_COR_DPS_DAY_AVG_BAL  29\n",
      "CUR_MON_COR_DPS_MON_DAY_AVG_BAL  30\n",
      "CUR_YEAR_COR_DMND_DPS_DAY_AVG_BAL  31\n",
      "CUR_YEAR_COR_DPS_YEAR_DAY_AVG_INCR  32\n",
      "LAST_12_MON_DIF_NM_MON_AVG_TRX_AMT_NAV  33\n",
      "LAST_12_MON_MON_AVG_TRX_AMT_NAV  34\n",
      "COR_KEY_PROD_HLD_NBR  35\n",
      "CUR_YEAR_MID_BUS_INC  36\n",
      "EMP_NBR  37\n",
      "REG_CPT  38\n",
      "HLD_DMS_CCY_ACT_NBR  39\n",
      "REG_DT  40\n",
      "OPN_TM  41\n",
      "HLD_FGN_CCY_ACT_NBR  42\n"
     ]
    },
    {
     "data": {
      "text/html": [
       "<div>\n",
       "<style scoped>\n",
       "    .dataframe tbody tr th:only-of-type {\n",
       "        vertical-align: middle;\n",
       "    }\n",
       "\n",
       "    .dataframe tbody tr th {\n",
       "        vertical-align: top;\n",
       "    }\n",
       "\n",
       "    .dataframe thead th {\n",
       "        text-align: right;\n",
       "    }\n",
       "</style>\n",
       "<table border=\"1\" class=\"dataframe\">\n",
       "  <thead>\n",
       "    <tr style=\"text-align: right;\">\n",
       "      <th></th>\n",
       "      <th>CUST_UID</th>\n",
       "      <th>LABEL</th>\n",
       "      <th>Numerical_0</th>\n",
       "      <th>Numerical_1</th>\n",
       "      <th>Numerical_2</th>\n",
       "      <th>Numerical_3</th>\n",
       "      <th>Numerical_4</th>\n",
       "      <th>Numerical_5</th>\n",
       "      <th>Numerical_6</th>\n",
       "      <th>Numerical_7</th>\n",
       "      <th>...</th>\n",
       "      <th>Categorical_2</th>\n",
       "      <th>Numerical_37</th>\n",
       "      <th>Numerical_38</th>\n",
       "      <th>Categorical_3</th>\n",
       "      <th>Numerical_39</th>\n",
       "      <th>Numerical_40</th>\n",
       "      <th>Categorical_4</th>\n",
       "      <th>Numerical_41</th>\n",
       "      <th>Categorical_5</th>\n",
       "      <th>Numerical_42</th>\n",
       "    </tr>\n",
       "  </thead>\n",
       "  <tbody>\n",
       "    <tr>\n",
       "      <th>0</th>\n",
       "      <td>2a171d461bf24a739b804c2843ad4f6e</td>\n",
       "      <td>0</td>\n",
       "      <td>NaN</td>\n",
       "      <td>72.0</td>\n",
       "      <td>425.3</td>\n",
       "      <td>NaN</td>\n",
       "      <td>NaN</td>\n",
       "      <td>NaN</td>\n",
       "      <td>25879985.3</td>\n",
       "      <td>2.0</td>\n",
       "      <td>...</td>\n",
       "      <td>B</td>\n",
       "      <td>2.0</td>\n",
       "      <td>1.200000e+09</td>\n",
       "      <td>32.0</td>\n",
       "      <td>12.0</td>\n",
       "      <td>1708.45</td>\n",
       "      <td>NaN</td>\n",
       "      <td>416.84</td>\n",
       "      <td>NaN</td>\n",
       "      <td>2.0</td>\n",
       "    </tr>\n",
       "    <tr>\n",
       "      <th>1</th>\n",
       "      <td>c58d5848d18548e297963c2d9e092699</td>\n",
       "      <td>0</td>\n",
       "      <td>2282.0</td>\n",
       "      <td>222.0</td>\n",
       "      <td>NaN</td>\n",
       "      <td>11776572.4</td>\n",
       "      <td>NaN</td>\n",
       "      <td>1964626.4</td>\n",
       "      <td>14755499.8</td>\n",
       "      <td>2.0</td>\n",
       "      <td>...</td>\n",
       "      <td>B</td>\n",
       "      <td>1002.0</td>\n",
       "      <td>5.000002e+06</td>\n",
       "      <td>32.0</td>\n",
       "      <td>22.0</td>\n",
       "      <td>199.42</td>\n",
       "      <td>F</td>\n",
       "      <td>195.87</td>\n",
       "      <td>D</td>\n",
       "      <td>2.0</td>\n",
       "    </tr>\n",
       "    <tr>\n",
       "      <th>2</th>\n",
       "      <td>74e6d8179e784a039bcb5a722014f4a4</td>\n",
       "      <td>0</td>\n",
       "      <td>NaN</td>\n",
       "      <td>2.0</td>\n",
       "      <td>NaN</td>\n",
       "      <td>NaN</td>\n",
       "      <td>NaN</td>\n",
       "      <td>4599822.3</td>\n",
       "      <td>2.0</td>\n",
       "      <td>2.0</td>\n",
       "      <td>...</td>\n",
       "      <td>B</td>\n",
       "      <td>2.0</td>\n",
       "      <td>NaN</td>\n",
       "      <td>2.0</td>\n",
       "      <td>12.0</td>\n",
       "      <td>1135.55</td>\n",
       "      <td>F</td>\n",
       "      <td>1122.00</td>\n",
       "      <td>NaN</td>\n",
       "      <td>2.0</td>\n",
       "    </tr>\n",
       "    <tr>\n",
       "      <th>3</th>\n",
       "      <td>1b6a8be2c2e34de09ca00d71470ec180</td>\n",
       "      <td>1</td>\n",
       "      <td>NaN</td>\n",
       "      <td>NaN</td>\n",
       "      <td>22.0</td>\n",
       "      <td>NaN</td>\n",
       "      <td>NaN</td>\n",
       "      <td>NaN</td>\n",
       "      <td>NaN</td>\n",
       "      <td>2.0</td>\n",
       "      <td>...</td>\n",
       "      <td>A</td>\n",
       "      <td>2.0</td>\n",
       "      <td>5.000020e+05</td>\n",
       "      <td>12.0</td>\n",
       "      <td>12.0</td>\n",
       "      <td>98.45</td>\n",
       "      <td>NaN</td>\n",
       "      <td>92.00</td>\n",
       "      <td>C</td>\n",
       "      <td>2.0</td>\n",
       "    </tr>\n",
       "    <tr>\n",
       "      <th>4</th>\n",
       "      <td>1974b5e0440a41128a416a8cdc8a7c16</td>\n",
       "      <td>1</td>\n",
       "      <td>NaN</td>\n",
       "      <td>NaN</td>\n",
       "      <td>NaN</td>\n",
       "      <td>NaN</td>\n",
       "      <td>NaN</td>\n",
       "      <td>NaN</td>\n",
       "      <td>NaN</td>\n",
       "      <td>NaN</td>\n",
       "      <td>...</td>\n",
       "      <td>A</td>\n",
       "      <td>2.0</td>\n",
       "      <td>NaN</td>\n",
       "      <td>2.0</td>\n",
       "      <td>12.0</td>\n",
       "      <td>NaN</td>\n",
       "      <td>NaN</td>\n",
       "      <td>355.87</td>\n",
       "      <td>C</td>\n",
       "      <td>2.0</td>\n",
       "    </tr>\n",
       "  </tbody>\n",
       "</table>\n",
       "<p>5 rows × 51 columns</p>\n",
       "</div>"
      ],
      "text/plain": [
       "                           CUST_UID  LABEL  Numerical_0  Numerical_1  \\\n",
       "0  2a171d461bf24a739b804c2843ad4f6e      0          NaN         72.0   \n",
       "1  c58d5848d18548e297963c2d9e092699      0       2282.0        222.0   \n",
       "2  74e6d8179e784a039bcb5a722014f4a4      0          NaN          2.0   \n",
       "3  1b6a8be2c2e34de09ca00d71470ec180      1          NaN          NaN   \n",
       "4  1974b5e0440a41128a416a8cdc8a7c16      1          NaN          NaN   \n",
       "\n",
       "   Numerical_2  Numerical_3  Numerical_4  Numerical_5  Numerical_6  \\\n",
       "0        425.3          NaN          NaN          NaN   25879985.3   \n",
       "1          NaN   11776572.4          NaN    1964626.4   14755499.8   \n",
       "2          NaN          NaN          NaN    4599822.3          2.0   \n",
       "3         22.0          NaN          NaN          NaN          NaN   \n",
       "4          NaN          NaN          NaN          NaN          NaN   \n",
       "\n",
       "   Numerical_7  ...  Categorical_2  Numerical_37  Numerical_38  Categorical_3  \\\n",
       "0          2.0  ...              B           2.0  1.200000e+09           32.0   \n",
       "1          2.0  ...              B        1002.0  5.000002e+06           32.0   \n",
       "2          2.0  ...              B           2.0           NaN            2.0   \n",
       "3          2.0  ...              A           2.0  5.000020e+05           12.0   \n",
       "4          NaN  ...              A           2.0           NaN            2.0   \n",
       "\n",
       "   Numerical_39  Numerical_40  Categorical_4 Numerical_41  Categorical_5  \\\n",
       "0          12.0       1708.45            NaN       416.84            NaN   \n",
       "1          22.0        199.42              F       195.87              D   \n",
       "2          12.0       1135.55              F      1122.00            NaN   \n",
       "3          12.0         98.45            NaN        92.00              C   \n",
       "4          12.0           NaN            NaN       355.87              C   \n",
       "\n",
       "   Numerical_42  \n",
       "0           2.0  \n",
       "1           2.0  \n",
       "2           2.0  \n",
       "3           2.0  \n",
       "4           2.0  \n",
       "\n",
       "[5 rows x 51 columns]"
      ]
     },
     "execution_count": 6,
     "metadata": {},
     "output_type": "execute_result"
    }
   ],
   "source": [
    "index_num = 0\n",
    "index_category = 0\n",
    "for va in df.values:\n",
    "    if va[1]=='Categorical':\n",
    "        train=train.rename(columns={va[0]:va[1]+\"_\"+str(index_category)})\n",
    "        test=test.rename(columns={va[0]:va[1]+\"_\"+str(index_category)})\n",
    "        index_category+=1\n",
    "    else:\n",
    "        train=train.rename(columns={va[0]:va[1]+\"_\"+str(index_num)})\n",
    "        test=test.rename(columns={va[0]:va[1]+\"_\"+str(index_num)})\n",
    "        index_num+=1\n",
    "        print(str(va[0])+\"  \"+str(index_num-1))\n",
    "train.head()"
   ]
  },
  {
   "cell_type": "code",
   "execution_count": 7,
   "metadata": {},
   "outputs": [],
   "source": [
    "# 把category和numerical 分开放\n",
    "train=train[['CUST_UID','LABEL','Categorical_0','Categorical_1','Categorical_2','Categorical_3','Categorical_4','Categorical_5','Numerical_0','Numerical_1','Numerical_2','Numerical_3','Numerical_4','Numerical_5','Numerical_6','Numerical_7','Numerical_8','Numerical_9','Numerical_10','Numerical_11','Numerical_12','Numerical_13','Numerical_14','Numerical_15','Numerical_16','Numerical_17','Numerical_18','Numerical_19','Numerical_20','Numerical_21','Numerical_22','Numerical_23','Numerical_24','Numerical_25','Numerical_26','Numerical_27','Numerical_28','Numerical_29','Numerical_30','Numerical_31','Numerical_32','Numerical_33','Numerical_34','Numerical_35','Numerical_36','Numerical_37','Numerical_38','Numerical_39','Numerical_40','Numerical_41','Numerical_42']]\n",
    "test=test[['CUST_UID','Categorical_0','Categorical_1','Categorical_2','Categorical_3','Categorical_4','Categorical_5','Numerical_0','Numerical_1','Numerical_2','Numerical_3','Numerical_4','Numerical_5','Numerical_6','Numerical_7','Numerical_8','Numerical_9','Numerical_10','Numerical_11','Numerical_12','Numerical_13','Numerical_14','Numerical_15','Numerical_16','Numerical_17','Numerical_18','Numerical_19','Numerical_20','Numerical_21','Numerical_22','Numerical_23','Numerical_24','Numerical_25','Numerical_26','Numerical_27','Numerical_28','Numerical_29','Numerical_30','Numerical_31','Numerical_32','Numerical_33','Numerical_34','Numerical_35','Numerical_36','Numerical_37','Numerical_38','Numerical_39','Numerical_40','Numerical_41','Numerical_42']]"
   ]
  },
  {
   "cell_type": "code",
   "execution_count": 8,
   "metadata": {},
   "outputs": [],
   "source": [
    "for c in range(6):\n",
    "    f=\"Categorical_\"+str(c)\n",
    "    train[f].fillna(\"ety\",inplace=True)\n",
    "    test[f].fillna(\"ety\",inplace=True)\n",
    "    train[f] = change_object_cols(train[f])\n",
    "    test[f] = change_object_cols(test[f])"
   ]
  },
  {
   "cell_type": "code",
   "execution_count": 9,
   "metadata": {},
   "outputs": [],
   "source": [
    "for c in range(43):\n",
    "    f=\"Numerical_\"+str(c)\n",
    "    train[f].fillna(train[f].mean(),inplace=True)\n",
    "    test[f].fillna(test[f].mean(),inplace=True)"
   ]
  },
  {
   "cell_type": "code",
   "execution_count": 12,
   "metadata": {},
   "outputs": [],
   "source": [
    "train.to_csv(\"preprocesses/train_dict_encode.csv\", index=False)\n",
    "test.to_csv(\"preprocesses/test_dict_encode.csv\", index=False)"
   ]
  },
  {
   "cell_type": "code",
   "execution_count": 29,
   "metadata": {},
   "outputs": [
    {
     "data": {
      "image/png": "[encoded data removed]",
      "text/plain": [
       "<Figure size 432x288 with 1 Axes>"
      ]
     },
     "metadata": {
      "needs_background": "light"
     },
     "output_type": "display_data"
    },
    {
     "data": {
      "image/png": "[encoded data removed]",
      "text/plain": [
       "<Figure size 432x288 with 1 Axes>"
      ]
     },
     "metadata": {
      "needs_background": "light"
     },
     "output_type": "display_data"
    }
   ],
   "source": [
    "for c in range(2):\n",
    "    f=\"Numerical_\"+str(c)\n",
    "    plt.hist(train[f],bins=10)\n",
    "    plt.show()"
   ]
  },
  {
   "cell_type": "code",
   "execution_count": 30,
   "metadata": {},
   "outputs": [
    {
     "name": "stdout",
     "output_type": "stream",
     "text": [
      "count    4.000000e+04\n",
      "mean     2.999511e+04\n",
      "std      7.219528e+05\n",
      "min      2.000000e+00\n",
      "25%      2.922000e+03\n",
      "50%      2.999511e+04\n",
      "75%      2.999511e+04\n",
      "max      1.428082e+08\n",
      "Name: Numerical_0, dtype: float64\n",
      "count    4.000000e+04\n",
      "mean     5.751507e+02\n",
      "std      1.141525e+04\n",
      "min      2.000000e+00\n",
      "25%      2.200000e+01\n",
      "50%      1.120000e+02\n",
      "75%      5.120000e+02\n",
      "max      1.795242e+06\n",
      "Name: Numerical_1, dtype: float64\n"
     ]
    }
   ],
   "source": [
    "for c in range(2):\n",
    "    f=\"Numerical_\"+str(c)\n",
    "    print(train[f].describe())"
   ]
  },
  {
   "cell_type": "code",
   "execution_count": null,
   "metadata": {},
   "outputs": [],
   "source": []
  }
 ],
 "metadata": {
  "kernelspec": {
   "display_name": "Python 3",
   "language": "python",
   "name": "python3"
  },
  "language_info": {
   "codemirror_mode": {
    "name": "ipython",
    "version": 3
   },
   "file_extension": ".py",
   "mimetype": "text/x-python",
   "name": "python",
   "nbconvert_exporter": "python",
   "pygments_lexer": "ipython3",
   "version": "3.7.6"
  }
 },
 "nbformat": 4,
 "nbformat_minor": 5
}
