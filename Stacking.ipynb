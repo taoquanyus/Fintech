{
 "cells": [
  {
   "cell_type": "code",
   "execution_count": 153,
   "id": "b54ac149",
   "metadata": {},
   "outputs": [],
   "source": [
    "import os\n",
    "import numpy as np\n",
    "import pandas as pd\n",
    "from sklearn.metrics import roc_auc_score\n",
    "from sklearn.model_selection import cross_val_score"
   ]
  },
  {
   "cell_type": "code",
   "execution_count": 154,
   "id": "b8aca89e",
   "metadata": {},
   "outputs": [],
   "source": [
    "train_lgbm=pd.read_csv(\"./preprocesses/train_lightgbm.csv\")\n",
    "train_rf=pd.read_csv(\"preprocesses/train_randomforest.csv\")\n",
    "train_xgb=pd.read_csv(\"preprocesses/train_xgboost.csv\")\n",
    "train_label=pd.read_csv(\"clean/train_dict.csv\")['LABEL']"
   ]
  },
  {
   "cell_type": "code",
   "execution_count": 155,
   "id": "cbf9dddb",
   "metadata": {},
   "outputs": [],
   "source": [
    "test_lgbm=pd.read_csv(\"./preprocesses/test_lightgbm.csv\")\n",
    "test_rf=pd.read_csv(\"preprocesses/test_randomforest.csv\")\n",
    "test_xgb=pd.read_csv(\"preprocesses/test_xgboost.csv\")\n",
    "test =  pd.read_excel('inputs/test_b.xlsx')"
   ]
  },
  {
   "cell_type": "code",
   "execution_count": 156,
   "id": "12a78019",
   "metadata": {},
   "outputs": [],
   "source": [
    "train_stack = np.hstack([train_lgbm,train_rf,train_xgb])\n",
    "test_stack = np.hstack([test_lgbm,test_rf,test_xgb])"
   ]
  },
  {
   "cell_type": "markdown",
   "id": "3bd4fc2b",
   "metadata": {},
   "source": [
    "#### 使用逻辑回归融合，调节l2正则化"
   ]
  },
  {
   "cell_type": "code",
   "execution_count": 157,
   "id": "fb3a46b5",
   "metadata": {},
   "outputs": [
    {
     "data": {
      "text/plain": [
       "[<matplotlib.lines.Line2D at 0x24fb9a45640>]"
      ]
     },
     "execution_count": 157,
     "metadata": {},
     "output_type": "execute_result"
    },
    {
     "data": {
      "image/png": "[encoded data removed]",
      "text/plain": [
       "<Figure size 432x288 with 1 Axes>"
      ]
     },
     "metadata": {
      "needs_background": "light"
     },
     "output_type": "display_data"
    }
   ],
   "source": [
    "# from sklearn.linear_model import LogisticRegression as LR\n",
    "# c = np.linspace(0.0001,0.2,30)\n",
    "# test_scores=[]\n",
    "# for C in c:\n",
    "#     lr = LR(penalty = \"l2\",C=C)\n",
    "#     test_score = cross_val_score(lr, train_stack, train_label, cv=5, scoring='roc_auc')\n",
    "#     test_scores.append(np.mean(test_score))\n",
    "    \n",
    "# import matplotlib.pyplot as plt\n",
    "# %matplotlib inline\n",
    "\n",
    "# plt.plot(c,test_scores)"
   ]
  },
  {
   "cell_type": "code",
   "execution_count": 158,
   "id": "3dffe105",
   "metadata": {},
   "outputs": [],
   "source": [
    "lr = LR(penalty='l2',C=0.105)\n",
    "lr.fit(train_stack, train_label)\n",
    "test_predict = lr.predict_proba(test_stack)[:,1]\n",
    "train_predict = lr.predict_proba(train_stack)[:,1]"
   ]
  },
  {
   "cell_type": "code",
   "execution_count": 160,
   "id": "17af603b",
   "metadata": {},
   "outputs": [],
   "source": [
    "test['LABEL']=test_predict"
   ]
  },
  {
   "cell_type": "code",
   "execution_count": 161,
   "id": "60267d80",
   "metadata": {},
   "outputs": [
    {
     "data": {
      "text/html": [
       "<div>\n",
       "<style scoped>\n",
       "    .dataframe tbody tr th:only-of-type {\n",
       "        vertical-align: middle;\n",
       "    }\n",
       "\n",
       "    .dataframe tbody tr th {\n",
       "        vertical-align: top;\n",
       "    }\n",
       "\n",
       "    .dataframe thead th {\n",
       "        text-align: right;\n",
       "    }\n",
       "</style>\n",
       "<table border=\"1\" class=\"dataframe\">\n",
       "  <thead>\n",
       "    <tr style=\"text-align: right;\">\n",
       "      <th></th>\n",
       "      <th>CUST_UID</th>\n",
       "      <th>LABEL</th>\n",
       "    </tr>\n",
       "  </thead>\n",
       "  <tbody>\n",
       "    <tr>\n",
       "      <th>0</th>\n",
       "      <td>f5dcfe9b9e8d496d893cfcba8fcac1d4</td>\n",
       "      <td>0.035942</td>\n",
       "    </tr>\n",
       "    <tr>\n",
       "      <th>1</th>\n",
       "      <td>68883d45646d44d8b851476058e4500d</td>\n",
       "      <td>0.033266</td>\n",
       "    </tr>\n",
       "    <tr>\n",
       "      <th>2</th>\n",
       "      <td>2b93dfa58f10463a937cd42cc42e54f7</td>\n",
       "      <td>0.089724</td>\n",
       "    </tr>\n",
       "    <tr>\n",
       "      <th>3</th>\n",
       "      <td>94fc13e16dac4642ab7544d8889e8579</td>\n",
       "      <td>0.032965</td>\n",
       "    </tr>\n",
       "    <tr>\n",
       "      <th>4</th>\n",
       "      <td>6be5af4911964a31a0b5cf115799ace6</td>\n",
       "      <td>0.575420</td>\n",
       "    </tr>\n",
       "    <tr>\n",
       "      <th>...</th>\n",
       "      <td>...</td>\n",
       "      <td>...</td>\n",
       "    </tr>\n",
       "    <tr>\n",
       "      <th>11995</th>\n",
       "      <td>01d799cc3246416387f2ff9a1468ede1</td>\n",
       "      <td>0.265831</td>\n",
       "    </tr>\n",
       "    <tr>\n",
       "      <th>11996</th>\n",
       "      <td>55dba67ea8eb464a810c4fea9331e443</td>\n",
       "      <td>0.051709</td>\n",
       "    </tr>\n",
       "    <tr>\n",
       "      <th>11997</th>\n",
       "      <td>527e025840b14373890844a1138197ab</td>\n",
       "      <td>0.296675</td>\n",
       "    </tr>\n",
       "    <tr>\n",
       "      <th>11998</th>\n",
       "      <td>89a4e87c9a764c6c9eafda790c76a4e6</td>\n",
       "      <td>0.039448</td>\n",
       "    </tr>\n",
       "    <tr>\n",
       "      <th>11999</th>\n",
       "      <td>36d4602277574e6f9eefe0c6a564c748</td>\n",
       "      <td>0.765589</td>\n",
       "    </tr>\n",
       "  </tbody>\n",
       "</table>\n",
       "<p>12000 rows × 2 columns</p>\n",
       "</div>"
      ],
      "text/plain": [
       "                               CUST_UID     LABEL\n",
       "0      f5dcfe9b9e8d496d893cfcba8fcac1d4  0.035942\n",
       "1      68883d45646d44d8b851476058e4500d  0.033266\n",
       "2      2b93dfa58f10463a937cd42cc42e54f7  0.089724\n",
       "3      94fc13e16dac4642ab7544d8889e8579  0.032965\n",
       "4      6be5af4911964a31a0b5cf115799ace6  0.575420\n",
       "...                                 ...       ...\n",
       "11995  01d799cc3246416387f2ff9a1468ede1  0.265831\n",
       "11996  55dba67ea8eb464a810c4fea9331e443  0.051709\n",
       "11997  527e025840b14373890844a1138197ab  0.296675\n",
       "11998  89a4e87c9a764c6c9eafda790c76a4e6  0.039448\n",
       "11999  36d4602277574e6f9eefe0c6a564c748  0.765589\n",
       "\n",
       "[12000 rows x 2 columns]"
      ]
     },
     "execution_count": 161,
     "metadata": {},
     "output_type": "execute_result"
    }
   ],
   "source": [
    "a=test[['CUST_UID','LABEL']]"
   ]
  },
  {
   "cell_type": "code",
   "execution_count": 162,
   "id": "15f6c1ae",
   "metadata": {},
   "outputs": [],
   "source": [
    "a.to_csv('result/stack_all.txt', sep=' ', index=False, header=None)"
   ]
  }
 ],
 "metadata": {
  "kernelspec": {
   "display_name": "Python 3 (ipykernel)",
   "language": "python",
   "name": "python3"
  },
  "language_info": {
   "codemirror_mode": {
    "name": "ipython",
    "version": 3
   },
   "file_extension": ".py",
   "mimetype": "text/x-python",
   "name": "python",
   "nbconvert_exporter": "python",
   "pygments_lexer": "ipython3",
   "version": "3.9.7"
  }
 },
 "nbformat": 4,
 "nbformat_minor": 5
}
