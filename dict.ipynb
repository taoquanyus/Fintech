{
 "cells": [
  {
   "cell_type": "code",
   "execution_count": 27,
   "id": "1ac12f6a",
   "metadata": {},
   "outputs": [],
   "source": [
    "import os\n",
    "import numpy as np\n",
    "import pandas as pd\n",
    "import matplotlib.pyplot as plt\n",
    "import seaborn as sns"
   ]
  },
  {
   "cell_type": "code",
   "execution_count": 28,
   "id": "8cc9987d",
   "metadata": {},
   "outputs": [
    {
     "data": {
      "text/plain": [
       "['feature_explain.xlsx',\n",
       " 'sample_submit.txt',\n",
       " 'test_a.xlsx',\n",
       " 'test_b.xlsx',\n",
       " 'train.xlsx']"
      ]
     },
     "execution_count": 28,
     "metadata": {},
     "output_type": "execute_result"
    }
   ],
   "source": [
    "os.listdir('./inputs/')"
   ]
  },
  {
   "cell_type": "code",
   "execution_count": 29,
   "id": "cd88184b",
   "metadata": {},
   "outputs": [
    {
     "name": "stdout",
     "output_type": "stream",
     "text": [
      "(40000, 51) (12000, 50) (5, 2)\n"
     ]
    }
   ],
   "source": [
    "train = pd.read_excel('inputs/train.xlsx')\n",
    "test =  pd.read_excel('inputs/test_b.xlsx')\n",
    "submission = pd.read_fwf('inputs/sample_submit.txt')\n",
    "print(train.shape, test.shape, submission.shape)"
   ]
  },
  {
   "cell_type": "code",
   "execution_count": 30,
   "id": "d6abffbb",
   "metadata": {},
   "outputs": [
    {
     "name": "stdout",
     "output_type": "stream",
     "text": [
      "Column: AGN_CNT_RCT_12_MON  Description: Numerical\n",
      "Column: ICO_CUR_MON_ACM_TRX_TM  Description: Numerical\n",
      "Column: NB_RCT_3_MON_LGN_TMS_AGV  Description: Numerical\n",
      "Column: AGN_CUR_YEAR_AMT  Description: Numerical\n",
      "Column: AGN_CUR_YEAR_WAG_AMT  Description: Numerical\n",
      "Column: AGN_AGR_LATEST_AGN_AMT  Description: Numerical\n",
      "Column: ICO_CUR_MON_ACM_TRX_AMT  Description: Numerical\n",
      "Column: COUNTER_CUR_YEAR_CNT_AMT  Description: Numerical\n",
      "Column: PUB_TO_PRV_TRX_AMT_CUR_YEAR  Description: Numerical\n",
      "Column: MON_12_EXT_SAM_TRSF_IN_AMT  Description: Numerical\n",
      "Column: MON_12_EXT_SAM_TRSF_OUT_AMT  Description: Numerical\n",
      "Column: MON_12_EXT_SAM_NM_TRSF_OUT_CNT  Description: Numerical\n",
      "Column: MON_12_EXT_SAM_AMT  Description: Numerical\n",
      "Column: CUR_MON_EXT_SAM_CUST_TRSF_IN_AMT  Description: Numerical\n",
      "Column: CUR_MON_EXT_SAM_CUST_TRSF_OUT_AMT  Description: Numerical\n",
      "Column: MON_12_CUST_CNT_PTY_ID  Description: Categorical\n",
      "Column: MON_12_TRX_AMT_MAX_AMT_PCTT  Description: Numerical\n",
      "Column: CUR_YEAR_MON_AGV_TRX_CNT  Description: Numerical\n",
      "Column: MON_12_AGV_TRX_CNT  Description: Numerical\n",
      "Column: MON_12_ACM_ENTR_ACT_CNT  Description: Numerical\n",
      "Column: MON_12_AGV_ENTR_ACT_CNT  Description: Numerical\n",
      "Column: MON_12_ACM_LVE_ACT_CNT  Description: Numerical\n",
      "Column: MON_12_AGV_LVE_ACT_CNT  Description: Numerical\n",
      "Column: CUR_YEAR_PUB_TO_PRV_TRX_PTY_CNT  Description: Numerical\n",
      "Column: MON_6_50_UP_ENTR_ACT_CNT  Description: Numerical\n",
      "Column: MON_6_50_UP_LVE_ACT_CNT  Description: Numerical\n",
      "Column: CUR_YEAR_COUNTER_ENCASH_CNT  Description: Numerical\n",
      "Column: MON_12_ACT_OUT_50_UP_CNT_PTY_QTY  Description: Numerical\n",
      "Column: MON_12_ACT_IN_50_UP_CNT_PTY_QTY  Description: Numerical\n",
      "Column: LAST_12_MON_COR_DPS_TM_PNT_BAL_PEAK_VAL  Description: Numerical\n",
      "Column: LAST_12_MON_COR_DPS_DAY_AVG_BAL  Description: Numerical\n",
      "Column: CUR_MON_COR_DPS_MON_DAY_AVG_BAL  Description: Numerical\n",
      "Column: CUR_YEAR_COR_DMND_DPS_DAY_AVG_BAL  Description: Numerical\n",
      "Column: CUR_YEAR_COR_DPS_YEAR_DAY_AVG_INCR  Description: Numerical\n",
      "Column: LAST_12_MON_DIF_NM_MON_AVG_TRX_AMT_NAV  Description: Numerical\n",
      "Column: LAST_12_MON_MON_AVG_TRX_AMT_NAV  Description: Numerical\n",
      "Column: COR_KEY_PROD_HLD_NBR  Description: Numerical\n",
      "Column: CUR_YEAR_MID_BUS_INC  Description: Numerical\n",
      "Column: AI_STAR_SCO  Description: Categorical\n",
      "Column: WTHR_OPN_ONL_ICO  Description: Categorical\n",
      "Column: EMP_NBR  Description: Numerical\n",
      "Column: REG_CPT  Description: Numerical\n",
      "Column: SHH_BCK  Description: Categorical\n",
      "Column: HLD_DMS_CCY_ACT_NBR  Description: Numerical\n",
      "Column: REG_DT  Description: Numerical\n",
      "Column: LGP_HLD_CARD_LVL  Description: Categorical\n",
      "Column: OPN_TM  Description: Numerical\n",
      "Column: NB_CTC_HLD_IDV_AIO_CARD_SITU  Description: Categorical\n",
      "Column: HLD_FGN_CCY_ACT_NBR  Description: Numerical\n"
     ]
    }
   ],
   "source": [
    "df = pd.read_excel('inputs/feature_explain.xlsx', sheet_name='train', skiprows=2)\n",
    "index_num = 0\n",
    "index_category = 0\n",
    "for va in df.values:\n",
    "    if va[1]=='Categorical':\n",
    "        train=train.rename(columns={va[0]:va[1]+\"_\"+str(index_category)})\n",
    "        test=test.rename(columns={va[0]:va[1]+\"_\"+str(index_category)})\n",
    "        index_category+=1\n",
    "    else:\n",
    "        train=train.rename(columns={va[0]:va[1]+\"_\"+str(index_num)})\n",
    "        test=test.rename(columns={va[0]:va[1]+\"_\"+str(index_num)})\n",
    "        index_num+=1\n",
    "        print(str(va[0])+\"  \"+str(index_num-1))\n",
    "train.head()\n",
    "# 把category和numerical 分开放\n",
    "train=train[['CUST_UID','LABEL','Categorical_0','Categorical_1','Categorical_2','Categorical_3','Categorical_4','Categorical_5','Numerical_0','Numerical_1','Numerical_2','Numerical_3','Numerical_4','Numerical_5','Numerical_6','Numerical_7','Numerical_8','Numerical_9','Numerical_10','Numerical_11','Numerical_12','Numerical_13','Numerical_14','Numerical_15','Numerical_16','Numerical_17','Numerical_18','Numerical_19','Numerical_20','Numerical_21','Numerical_22','Numerical_23','Numerical_24','Numerical_25','Numerical_26','Numerical_27','Numerical_28','Numerical_29','Numerical_30','Numerical_31','Numerical_32','Numerical_33','Numerical_34','Numerical_35','Numerical_36','Numerical_37','Numerical_38','Numerical_39','Numerical_40','Numerical_41','Numerical_42']]\n",
    "test=test[['CUST_UID','Categorical_0','Categorical_1','Categorical_2','Categorical_3','Categorical_4','Categorical_5','Numerical_0','Numerical_1','Numerical_2','Numerical_3','Numerical_4','Numerical_5','Numerical_6','Numerical_7','Numerical_8','Numerical_9','Numerical_10','Numerical_11','Numerical_12','Numerical_13','Numerical_14','Numerical_15','Numerical_16','Numerical_17','Numerical_18','Numerical_19','Numerical_20','Numerical_21','Numerical_22','Numerical_23','Numerical_24','Numerical_25','Numerical_26','Numerical_27','Numerical_28','Numerical_29','Numerical_30','Numerical_31','Numerical_32','Numerical_33','Numerical_34','Numerical_35','Numerical_36','Numerical_37','Numerical_38','Numerical_39','Numerical_40','Numerical_41','Numerical_42']]\n",
    "features = train.columns.tolist()\n",
    "for f in features:\n",
    "    if train[f].isnull().sum()/train.shape[0]>0.3:\n",
    "        train.drop(columns=[f],inplace=True)\n",
    "        test.drop(columns=[f],inplace=True)"
   ]
  },
  {
   "cell_type": "code",
   "execution_count": 35,
   "id": "7e29853f",
   "metadata": {},
   "outputs": [],
   "source": [
    "#one hot 编码\n",
    "df = pd.concat([train.assign(is_train = 1),test.assign(is_train = 0)])\n",
    "df[['Categorical_1','Categorical_3']]=df[['Categorical_1','Categorical_3']].astype('object')\n",
    "for f in df.columns.tolist():\n",
    "    if df[f].dtype=='object':\n",
    "        df[f].fillna(\"ety\",inplace=True)\n",
    "        df[f]=df[f].astype(\"object\")\n",
    "uid = df['CUST_UID']\n",
    "df.drop(columns=['CUST_UID'],inplace=True)\n",
    "df = pd.get_dummies(df)\n",
    "df['CUST_UID'] = uid\n",
    "train = df[df['is_train'] == 1]\n",
    "test  = df[df['is_train'] == 0]\n",
    "train.drop(columns=['is_train'],inplace=True)\n",
    "test.drop(columns=['is_train'],inplace=True)"
   ]
  },
  {
   "cell_type": "code",
   "execution_count": 44,
   "id": "041cd873",
   "metadata": {},
   "outputs": [],
   "source": [
    "# # 字典编码\n",
    "# def change_object_cols(se):\n",
    "#     value = se.unique().tolist()\n",
    "#     value.sort\n",
    "#     return se.map(pd.Series(range(len(value)), index=value)).values"
   ]
  },
  {
   "cell_type": "code",
   "execution_count": null,
   "id": "73a726c5",
   "metadata": {},
   "outputs": [],
   "source": [
    "# features = train.columns.tolist()[2:6]\n",
    "# for f in features:\n",
    "#     train[f] = change_object_cols(train[f].fillna(-1))\n",
    "#     test[f] = change_object_cols(test[f].fillna(-1))"
   ]
  },
  {
   "cell_type": "code",
   "execution_count": null,
   "id": "7ffc9e12",
   "metadata": {},
   "outputs": [],
   "source": [
    "# train.to_csv(\"preprocesses/train_dict.csv\", index=False)\n",
    "# test.to_csv(\"preprocesses/test_dict.csv\", index=False)"
   ]
  },
  {
   "cell_type": "code",
   "execution_count": null,
   "id": "4a9aeed1",
   "metadata": {},
   "outputs": [],
   "source": [
    "# train=pd.read_csv(\"preprocesses/train_dict.csv\")\n",
    "# test=pd.read_csv(\"preprocesses/test_dict.csv\")"
   ]
  },
  {
   "cell_type": "code",
   "execution_count": 48,
   "id": "374413c5",
   "metadata": {},
   "outputs": [
    {
     "name": "stdout",
     "output_type": "stream",
     "text": [
      "['LABEL', 'Numerical_1', 'Numerical_2', 'Numerical_6', 'Numerical_7', 'Numerical_8', 'Numerical_9', 'Numerical_10', 'Numerical_11', 'Numerical_12', 'Numerical_13', 'Numerical_14', 'Numerical_15', 'Numerical_16', 'Numerical_17', 'Numerical_18', 'Numerical_19', 'Numerical_20', 'Numerical_21', 'Numerical_23', 'Numerical_24', 'Numerical_25', 'Numerical_26', 'Numerical_27', 'Numerical_28', 'Numerical_29', 'Numerical_30', 'Numerical_31', 'Numerical_32', 'Numerical_33', 'Numerical_34', 'Numerical_35', 'Numerical_36', 'Numerical_37', 'Numerical_38', 'Numerical_39', 'Numerical_40', 'Numerical_41', 'Numerical_42']\n"
     ]
    },
    {
     "name": "stderr",
     "output_type": "stream",
     "text": [
      "C:\\ProgramData\\Anaconda3\\lib\\site-packages\\pandas\\core\\generic.py:6392: SettingWithCopyWarning: \n",
      "A value is trying to be set on a copy of a slice from a DataFrame\n",
      "\n",
      "See the caveats in the documentation: https://pandas.pydata.org/pandas-docs/stable/user_guide/indexing.html#returning-a-view-versus-a-copy\n",
      "  return self._update_inplace(result)\n"
     ]
    }
   ],
   "source": [
    "# \n",
    "features = []\n",
    "for f in train.columns.tolist():\n",
    "    if(train[f].dtype=='float64'):\n",
    "        features.append(f)\n",
    "print(features)\n",
    "for f in features:\n",
    "    median=train[f].median()\n",
    "    train[f].fillna(median,inplace=True)\n",
    "    test[f].fillna(median,inplace=True)"
   ]
  },
  {
   "cell_type": "code",
   "execution_count": null,
   "id": "d96d6ccd",
   "metadata": {},
   "outputs": [],
   "source": [
    "train.to_csv(\"clean/train_dict_encode.csv\", index=False)\n",
    "test.to_csv(\"clean/test_dict_encode.csv\", index=False)"
   ]
  },
  {
   "cell_type": "code",
   "execution_count": null,
   "id": "3a92258f",
   "metadata": {},
   "outputs": [],
   "source": []
  }
 ],
 "metadata": {
  "kernelspec": {
   "display_name": "Python 3 (ipykernel)",
   "language": "python",
   "name": "python3"
  },
  "language_info": {
   "codemirror_mode": {
    "name": "ipython",
    "version": 3
   },
   "file_extension": ".py",
   "mimetype": "text/x-python",
   "name": "python",
   "nbconvert_exporter": "python",
   "pygments_lexer": "ipython3",
   "version": "3.9.7"
  }
 },
 "nbformat": 4,
 "nbformat_minor": 5
}
