{
 "cells": [
  {
   "cell_type": "code",
   "execution_count": 1,
   "id": "54b7d032",
   "metadata": {},
   "outputs": [],
   "source": [
    "import os\n",
    "import numpy as np\n",
    "import pandas as pd\n",
    "import matplotlib.pyplot as plt\n",
    "import seaborn as sns"
   ]
  },
  {
   "cell_type": "code",
   "execution_count": 2,
   "id": "06554c90",
   "metadata": {},
   "outputs": [
    {
     "data": {
      "text/plain": [
       "['feature_explain.xlsx', 'sample_submit.txt', 'test_a.xlsx', 'train.xlsx']"
      ]
     },
     "execution_count": 2,
     "metadata": {},
     "output_type": "execute_result"
    }
   ],
   "source": [
    "os.listdir('./inputs/')"
   ]
  },
  {
   "cell_type": "code",
   "execution_count": 3,
   "id": "00d375e5",
   "metadata": {},
   "outputs": [
    {
     "name": "stdout",
     "output_type": "stream",
     "text": [
      "(40000, 51) (12000, 50) (5, 2)\n"
     ]
    }
   ],
   "source": [
    "train = pd.read_excel('inputs/train.xlsx')\n",
    "test =  pd.read_excel('inputs/test_a.xlsx')\n",
    "submission = pd.read_fwf('inputs/sample_submit.txt')\n",
    "print(train.shape, test.shape, submission.shape)"
   ]
  },
  {
   "cell_type": "code",
   "execution_count": 4,
   "id": "6f5a51ff",
   "metadata": {},
   "outputs": [
    {
     "data": {
      "text/html": [
       "<div>\n",
       "<style scoped>\n",
       "    .dataframe tbody tr th:only-of-type {\n",
       "        vertical-align: middle;\n",
       "    }\n",
       "\n",
       "    .dataframe tbody tr th {\n",
       "        vertical-align: top;\n",
       "    }\n",
       "\n",
       "    .dataframe thead th {\n",
       "        text-align: right;\n",
       "    }\n",
       "</style>\n",
       "<table border=\"1\" class=\"dataframe\">\n",
       "  <thead>\n",
       "    <tr style=\"text-align: right;\">\n",
       "      <th></th>\n",
       "      <th>CUST_UID</th>\n",
       "      <th>PR</th>\n",
       "    </tr>\n",
       "  </thead>\n",
       "  <tbody>\n",
       "    <tr>\n",
       "      <th>0</th>\n",
       "      <td>9f37501d2dc7407b8fcfad91426e3b0e</td>\n",
       "      <td>0.912431</td>\n",
       "    </tr>\n",
       "    <tr>\n",
       "      <th>1</th>\n",
       "      <td>81782d53d2534448ab14e42df878dde8</td>\n",
       "      <td>0.271181</td>\n",
       "    </tr>\n",
       "    <tr>\n",
       "      <th>2</th>\n",
       "      <td>f8970fdae92e4ddd8719b58e05bf66a8</td>\n",
       "      <td>0.656388</td>\n",
       "    </tr>\n",
       "    <tr>\n",
       "      <th>3</th>\n",
       "      <td>63928c02877a4136855cd8af0ba510f1</td>\n",
       "      <td>0.961668</td>\n",
       "    </tr>\n",
       "    <tr>\n",
       "      <th>4</th>\n",
       "      <td>fd1c050e031b4451b5f530a7cd788d92</td>\n",
       "      <td>0.932660</td>\n",
       "    </tr>\n",
       "  </tbody>\n",
       "</table>\n",
       "</div>"
      ],
      "text/plain": [
       "                           CUST_UID        PR\n",
       "0  9f37501d2dc7407b8fcfad91426e3b0e  0.912431\n",
       "1  81782d53d2534448ab14e42df878dde8  0.271181\n",
       "2  f8970fdae92e4ddd8719b58e05bf66a8  0.656388\n",
       "3  63928c02877a4136855cd8af0ba510f1  0.961668\n",
       "4  fd1c050e031b4451b5f530a7cd788d92  0.932660"
      ]
     },
     "execution_count": 4,
     "metadata": {},
     "output_type": "execute_result"
    }
   ],
   "source": [
    "submission.head()"
   ]
  },
  {
   "cell_type": "code",
   "execution_count": 5,
   "id": "cd600cfb",
   "metadata": {},
   "outputs": [
    {
     "data": {
      "text/html": [
       "<div>\n",
       "<style scoped>\n",
       "    .dataframe tbody tr th:only-of-type {\n",
       "        vertical-align: middle;\n",
       "    }\n",
       "\n",
       "    .dataframe tbody tr th {\n",
       "        vertical-align: top;\n",
       "    }\n",
       "\n",
       "    .dataframe thead th {\n",
       "        text-align: right;\n",
       "    }\n",
       "</style>\n",
       "<table border=\"1\" class=\"dataframe\">\n",
       "  <thead>\n",
       "    <tr style=\"text-align: right;\">\n",
       "      <th></th>\n",
       "      <th>CUST_UID</th>\n",
       "      <th>LABEL</th>\n",
       "      <th>AGN_CNT_RCT_12_MON</th>\n",
       "      <th>ICO_CUR_MON_ACM_TRX_TM</th>\n",
       "      <th>NB_RCT_3_MON_LGN_TMS_AGV</th>\n",
       "      <th>AGN_CUR_YEAR_AMT</th>\n",
       "      <th>AGN_CUR_YEAR_WAG_AMT</th>\n",
       "      <th>AGN_AGR_LATEST_AGN_AMT</th>\n",
       "      <th>ICO_CUR_MON_ACM_TRX_AMT</th>\n",
       "      <th>COUNTER_CUR_YEAR_CNT_AMT</th>\n",
       "      <th>...</th>\n",
       "      <th>WTHR_OPN_ONL_ICO</th>\n",
       "      <th>EMP_NBR</th>\n",
       "      <th>REG_CPT</th>\n",
       "      <th>SHH_BCK</th>\n",
       "      <th>HLD_DMS_CCY_ACT_NBR</th>\n",
       "      <th>REG_DT</th>\n",
       "      <th>LGP_HLD_CARD_LVL</th>\n",
       "      <th>OPN_TM</th>\n",
       "      <th>NB_CTC_HLD_IDV_AIO_CARD_SITU</th>\n",
       "      <th>HLD_FGN_CCY_ACT_NBR</th>\n",
       "    </tr>\n",
       "  </thead>\n",
       "  <tbody>\n",
       "    <tr>\n",
       "      <th>0</th>\n",
       "      <td>2a171d461bf24a739b804c2843ad4f6e</td>\n",
       "      <td>0</td>\n",
       "      <td>NaN</td>\n",
       "      <td>72.0</td>\n",
       "      <td>425.3</td>\n",
       "      <td>NaN</td>\n",
       "      <td>NaN</td>\n",
       "      <td>NaN</td>\n",
       "      <td>25879985.3</td>\n",
       "      <td>2.0</td>\n",
       "      <td>...</td>\n",
       "      <td>B</td>\n",
       "      <td>2.0</td>\n",
       "      <td>1.200000e+09</td>\n",
       "      <td>32.0</td>\n",
       "      <td>12.0</td>\n",
       "      <td>1708.45</td>\n",
       "      <td>NaN</td>\n",
       "      <td>416.84</td>\n",
       "      <td>NaN</td>\n",
       "      <td>2.0</td>\n",
       "    </tr>\n",
       "    <tr>\n",
       "      <th>1</th>\n",
       "      <td>c58d5848d18548e297963c2d9e092699</td>\n",
       "      <td>0</td>\n",
       "      <td>2282.0</td>\n",
       "      <td>222.0</td>\n",
       "      <td>NaN</td>\n",
       "      <td>11776572.4</td>\n",
       "      <td>NaN</td>\n",
       "      <td>1964626.4</td>\n",
       "      <td>14755499.8</td>\n",
       "      <td>2.0</td>\n",
       "      <td>...</td>\n",
       "      <td>B</td>\n",
       "      <td>1002.0</td>\n",
       "      <td>5.000002e+06</td>\n",
       "      <td>32.0</td>\n",
       "      <td>22.0</td>\n",
       "      <td>199.42</td>\n",
       "      <td>F</td>\n",
       "      <td>195.87</td>\n",
       "      <td>D</td>\n",
       "      <td>2.0</td>\n",
       "    </tr>\n",
       "    <tr>\n",
       "      <th>2</th>\n",
       "      <td>74e6d8179e784a039bcb5a722014f4a4</td>\n",
       "      <td>0</td>\n",
       "      <td>NaN</td>\n",
       "      <td>2.0</td>\n",
       "      <td>NaN</td>\n",
       "      <td>NaN</td>\n",
       "      <td>NaN</td>\n",
       "      <td>4599822.3</td>\n",
       "      <td>2.0</td>\n",
       "      <td>2.0</td>\n",
       "      <td>...</td>\n",
       "      <td>B</td>\n",
       "      <td>2.0</td>\n",
       "      <td>NaN</td>\n",
       "      <td>2.0</td>\n",
       "      <td>12.0</td>\n",
       "      <td>1135.55</td>\n",
       "      <td>F</td>\n",
       "      <td>1122.00</td>\n",
       "      <td>NaN</td>\n",
       "      <td>2.0</td>\n",
       "    </tr>\n",
       "    <tr>\n",
       "      <th>3</th>\n",
       "      <td>1b6a8be2c2e34de09ca00d71470ec180</td>\n",
       "      <td>1</td>\n",
       "      <td>NaN</td>\n",
       "      <td>NaN</td>\n",
       "      <td>22.0</td>\n",
       "      <td>NaN</td>\n",
       "      <td>NaN</td>\n",
       "      <td>NaN</td>\n",
       "      <td>NaN</td>\n",
       "      <td>2.0</td>\n",
       "      <td>...</td>\n",
       "      <td>A</td>\n",
       "      <td>2.0</td>\n",
       "      <td>5.000020e+05</td>\n",
       "      <td>12.0</td>\n",
       "      <td>12.0</td>\n",
       "      <td>98.45</td>\n",
       "      <td>NaN</td>\n",
       "      <td>92.00</td>\n",
       "      <td>C</td>\n",
       "      <td>2.0</td>\n",
       "    </tr>\n",
       "    <tr>\n",
       "      <th>4</th>\n",
       "      <td>1974b5e0440a41128a416a8cdc8a7c16</td>\n",
       "      <td>1</td>\n",
       "      <td>NaN</td>\n",
       "      <td>NaN</td>\n",
       "      <td>NaN</td>\n",
       "      <td>NaN</td>\n",
       "      <td>NaN</td>\n",
       "      <td>NaN</td>\n",
       "      <td>NaN</td>\n",
       "      <td>NaN</td>\n",
       "      <td>...</td>\n",
       "      <td>A</td>\n",
       "      <td>2.0</td>\n",
       "      <td>NaN</td>\n",
       "      <td>2.0</td>\n",
       "      <td>12.0</td>\n",
       "      <td>NaN</td>\n",
       "      <td>NaN</td>\n",
       "      <td>355.87</td>\n",
       "      <td>C</td>\n",
       "      <td>2.0</td>\n",
       "    </tr>\n",
       "  </tbody>\n",
       "</table>\n",
       "<p>5 rows × 51 columns</p>\n",
       "</div>"
      ],
      "text/plain": [
       "                           CUST_UID  LABEL  AGN_CNT_RCT_12_MON  \\\n",
       "0  2a171d461bf24a739b804c2843ad4f6e      0                 NaN   \n",
       "1  c58d5848d18548e297963c2d9e092699      0              2282.0   \n",
       "2  74e6d8179e784a039bcb5a722014f4a4      0                 NaN   \n",
       "3  1b6a8be2c2e34de09ca00d71470ec180      1                 NaN   \n",
       "4  1974b5e0440a41128a416a8cdc8a7c16      1                 NaN   \n",
       "\n",
       "   ICO_CUR_MON_ACM_TRX_TM  NB_RCT_3_MON_LGN_TMS_AGV  AGN_CUR_YEAR_AMT  \\\n",
       "0                    72.0                     425.3               NaN   \n",
       "1                   222.0                       NaN        11776572.4   \n",
       "2                     2.0                       NaN               NaN   \n",
       "3                     NaN                      22.0               NaN   \n",
       "4                     NaN                       NaN               NaN   \n",
       "\n",
       "   AGN_CUR_YEAR_WAG_AMT  AGN_AGR_LATEST_AGN_AMT  ICO_CUR_MON_ACM_TRX_AMT  \\\n",
       "0                   NaN                     NaN               25879985.3   \n",
       "1                   NaN               1964626.4               14755499.8   \n",
       "2                   NaN               4599822.3                      2.0   \n",
       "3                   NaN                     NaN                      NaN   \n",
       "4                   NaN                     NaN                      NaN   \n",
       "\n",
       "   COUNTER_CUR_YEAR_CNT_AMT  ...  WTHR_OPN_ONL_ICO  EMP_NBR       REG_CPT  \\\n",
       "0                       2.0  ...                 B      2.0  1.200000e+09   \n",
       "1                       2.0  ...                 B   1002.0  5.000002e+06   \n",
       "2                       2.0  ...                 B      2.0           NaN   \n",
       "3                       2.0  ...                 A      2.0  5.000020e+05   \n",
       "4                       NaN  ...                 A      2.0           NaN   \n",
       "\n",
       "   SHH_BCK  HLD_DMS_CCY_ACT_NBR   REG_DT  LGP_HLD_CARD_LVL   OPN_TM  \\\n",
       "0     32.0                 12.0  1708.45               NaN   416.84   \n",
       "1     32.0                 22.0   199.42                 F   195.87   \n",
       "2      2.0                 12.0  1135.55                 F  1122.00   \n",
       "3     12.0                 12.0    98.45               NaN    92.00   \n",
       "4      2.0                 12.0      NaN               NaN   355.87   \n",
       "\n",
       "   NB_CTC_HLD_IDV_AIO_CARD_SITU  HLD_FGN_CCY_ACT_NBR  \n",
       "0                           NaN                  2.0  \n",
       "1                             D                  2.0  \n",
       "2                           NaN                  2.0  \n",
       "3                             C                  2.0  \n",
       "4                             C                  2.0  \n",
       "\n",
       "[5 rows x 51 columns]"
      ]
     },
     "execution_count": 5,
     "metadata": {},
     "output_type": "execute_result"
    }
   ],
   "source": [
    "train.head()"
   ]
  },
  {
   "cell_type": "code",
   "execution_count": 6,
   "id": "f562cc75",
   "metadata": {},
   "outputs": [
    {
     "data": {
      "text/html": [
       "<div>\n",
       "<style scoped>\n",
       "    .dataframe tbody tr th:only-of-type {\n",
       "        vertical-align: middle;\n",
       "    }\n",
       "\n",
       "    .dataframe tbody tr th {\n",
       "        vertical-align: top;\n",
       "    }\n",
       "\n",
       "    .dataframe thead th {\n",
       "        text-align: right;\n",
       "    }\n",
       "</style>\n",
       "<table border=\"1\" class=\"dataframe\">\n",
       "  <thead>\n",
       "    <tr style=\"text-align: right;\">\n",
       "      <th></th>\n",
       "      <th>CUST_UID</th>\n",
       "      <th>AGN_CNT_RCT_12_MON</th>\n",
       "      <th>ICO_CUR_MON_ACM_TRX_TM</th>\n",
       "      <th>NB_RCT_3_MON_LGN_TMS_AGV</th>\n",
       "      <th>AGN_CUR_YEAR_AMT</th>\n",
       "      <th>AGN_CUR_YEAR_WAG_AMT</th>\n",
       "      <th>AGN_AGR_LATEST_AGN_AMT</th>\n",
       "      <th>ICO_CUR_MON_ACM_TRX_AMT</th>\n",
       "      <th>COUNTER_CUR_YEAR_CNT_AMT</th>\n",
       "      <th>PUB_TO_PRV_TRX_AMT_CUR_YEAR</th>\n",
       "      <th>...</th>\n",
       "      <th>WTHR_OPN_ONL_ICO</th>\n",
       "      <th>EMP_NBR</th>\n",
       "      <th>REG_CPT</th>\n",
       "      <th>SHH_BCK</th>\n",
       "      <th>HLD_DMS_CCY_ACT_NBR</th>\n",
       "      <th>REG_DT</th>\n",
       "      <th>LGP_HLD_CARD_LVL</th>\n",
       "      <th>OPN_TM</th>\n",
       "      <th>NB_CTC_HLD_IDV_AIO_CARD_SITU</th>\n",
       "      <th>HLD_FGN_CCY_ACT_NBR</th>\n",
       "    </tr>\n",
       "  </thead>\n",
       "  <tbody>\n",
       "    <tr>\n",
       "      <th>0</th>\n",
       "      <td>deca9c4409e84344bc4059116902ba0e</td>\n",
       "      <td>23662.0</td>\n",
       "      <td>NaN</td>\n",
       "      <td>NaN</td>\n",
       "      <td>NaN</td>\n",
       "      <td>NaN</td>\n",
       "      <td>135692.0</td>\n",
       "      <td>NaN</td>\n",
       "      <td>2.0</td>\n",
       "      <td>2.0</td>\n",
       "      <td>...</td>\n",
       "      <td>NaN</td>\n",
       "      <td>26622.0</td>\n",
       "      <td>NaN</td>\n",
       "      <td>2.0</td>\n",
       "      <td>12.0</td>\n",
       "      <td>242461.35</td>\n",
       "      <td>NaN</td>\n",
       "      <td>1588.13</td>\n",
       "      <td>NaN</td>\n",
       "      <td>2.0</td>\n",
       "    </tr>\n",
       "    <tr>\n",
       "      <th>1</th>\n",
       "      <td>25377f79cf9d4964a2f9893dc572caba</td>\n",
       "      <td>NaN</td>\n",
       "      <td>2.0</td>\n",
       "      <td>NaN</td>\n",
       "      <td>NaN</td>\n",
       "      <td>NaN</td>\n",
       "      <td>NaN</td>\n",
       "      <td>2.0</td>\n",
       "      <td>2.0</td>\n",
       "      <td>2.0</td>\n",
       "      <td>...</td>\n",
       "      <td>B</td>\n",
       "      <td>1502.0</td>\n",
       "      <td>3.800000e+08</td>\n",
       "      <td>32.0</td>\n",
       "      <td>12.0</td>\n",
       "      <td>432.00</td>\n",
       "      <td>NaN</td>\n",
       "      <td>82.65</td>\n",
       "      <td>NaN</td>\n",
       "      <td>2.0</td>\n",
       "    </tr>\n",
       "    <tr>\n",
       "      <th>2</th>\n",
       "      <td>66979a1614fb49f1bcdcdce75d6abefc</td>\n",
       "      <td>1672.0</td>\n",
       "      <td>2.0</td>\n",
       "      <td>48.7</td>\n",
       "      <td>992125.6</td>\n",
       "      <td>NaN</td>\n",
       "      <td>992125.6</td>\n",
       "      <td>2.0</td>\n",
       "      <td>2.0</td>\n",
       "      <td>2.0</td>\n",
       "      <td>...</td>\n",
       "      <td>A</td>\n",
       "      <td>2.0</td>\n",
       "      <td>NaN</td>\n",
       "      <td>2.0</td>\n",
       "      <td>42.0</td>\n",
       "      <td>NaN</td>\n",
       "      <td>NaN</td>\n",
       "      <td>512.65</td>\n",
       "      <td>C</td>\n",
       "      <td>22.0</td>\n",
       "    </tr>\n",
       "    <tr>\n",
       "      <th>3</th>\n",
       "      <td>84142dedb7e0442eb9aa7aeadf93f66e</td>\n",
       "      <td>5432.0</td>\n",
       "      <td>102.0</td>\n",
       "      <td>88.7</td>\n",
       "      <td>46729796.3</td>\n",
       "      <td>46729796.3</td>\n",
       "      <td>7356752.4</td>\n",
       "      <td>8048976.0</td>\n",
       "      <td>2.0</td>\n",
       "      <td>2154106.4</td>\n",
       "      <td>...</td>\n",
       "      <td>B</td>\n",
       "      <td>432.0</td>\n",
       "      <td>5.000002e+06</td>\n",
       "      <td>12.0</td>\n",
       "      <td>12.0</td>\n",
       "      <td>442.00</td>\n",
       "      <td>C</td>\n",
       "      <td>432.00</td>\n",
       "      <td>C</td>\n",
       "      <td>2.0</td>\n",
       "    </tr>\n",
       "    <tr>\n",
       "      <th>4</th>\n",
       "      <td>5e5817f15c8d4bdebefa820961854ac2</td>\n",
       "      <td>11842.0</td>\n",
       "      <td>782.0</td>\n",
       "      <td>1545.3</td>\n",
       "      <td>27085791.9</td>\n",
       "      <td>NaN</td>\n",
       "      <td>135002.0</td>\n",
       "      <td>81516420.9</td>\n",
       "      <td>2.0</td>\n",
       "      <td>2421499.6</td>\n",
       "      <td>...</td>\n",
       "      <td>B</td>\n",
       "      <td>902.0</td>\n",
       "      <td>1.131689e+09</td>\n",
       "      <td>32.0</td>\n",
       "      <td>12.0</td>\n",
       "      <td>3747.48</td>\n",
       "      <td>NaN</td>\n",
       "      <td>3200.06</td>\n",
       "      <td>C</td>\n",
       "      <td>2.0</td>\n",
       "    </tr>\n",
       "  </tbody>\n",
       "</table>\n",
       "<p>5 rows × 50 columns</p>\n",
       "</div>"
      ],
      "text/plain": [
       "                           CUST_UID  AGN_CNT_RCT_12_MON  \\\n",
       "0  deca9c4409e84344bc4059116902ba0e             23662.0   \n",
       "1  25377f79cf9d4964a2f9893dc572caba                 NaN   \n",
       "2  66979a1614fb49f1bcdcdce75d6abefc              1672.0   \n",
       "3  84142dedb7e0442eb9aa7aeadf93f66e              5432.0   \n",
       "4  5e5817f15c8d4bdebefa820961854ac2             11842.0   \n",
       "\n",
       "   ICO_CUR_MON_ACM_TRX_TM  NB_RCT_3_MON_LGN_TMS_AGV  AGN_CUR_YEAR_AMT  \\\n",
       "0                     NaN                       NaN               NaN   \n",
       "1                     2.0                       NaN               NaN   \n",
       "2                     2.0                      48.7          992125.6   \n",
       "3                   102.0                      88.7        46729796.3   \n",
       "4                   782.0                    1545.3        27085791.9   \n",
       "\n",
       "   AGN_CUR_YEAR_WAG_AMT  AGN_AGR_LATEST_AGN_AMT  ICO_CUR_MON_ACM_TRX_AMT  \\\n",
       "0                   NaN                135692.0                      NaN   \n",
       "1                   NaN                     NaN                      2.0   \n",
       "2                   NaN                992125.6                      2.0   \n",
       "3            46729796.3               7356752.4                8048976.0   \n",
       "4                   NaN                135002.0               81516420.9   \n",
       "\n",
       "   COUNTER_CUR_YEAR_CNT_AMT  PUB_TO_PRV_TRX_AMT_CUR_YEAR  ...  \\\n",
       "0                       2.0                          2.0  ...   \n",
       "1                       2.0                          2.0  ...   \n",
       "2                       2.0                          2.0  ...   \n",
       "3                       2.0                    2154106.4  ...   \n",
       "4                       2.0                    2421499.6  ...   \n",
       "\n",
       "   WTHR_OPN_ONL_ICO  EMP_NBR       REG_CPT  SHH_BCK  HLD_DMS_CCY_ACT_NBR  \\\n",
       "0               NaN  26622.0           NaN      2.0                 12.0   \n",
       "1                 B   1502.0  3.800000e+08     32.0                 12.0   \n",
       "2                 A      2.0           NaN      2.0                 42.0   \n",
       "3                 B    432.0  5.000002e+06     12.0                 12.0   \n",
       "4                 B    902.0  1.131689e+09     32.0                 12.0   \n",
       "\n",
       "      REG_DT LGP_HLD_CARD_LVL   OPN_TM  NB_CTC_HLD_IDV_AIO_CARD_SITU  \\\n",
       "0  242461.35              NaN  1588.13                           NaN   \n",
       "1     432.00              NaN    82.65                           NaN   \n",
       "2        NaN              NaN   512.65                             C   \n",
       "3     442.00                C   432.00                             C   \n",
       "4    3747.48              NaN  3200.06                             C   \n",
       "\n",
       "   HLD_FGN_CCY_ACT_NBR  \n",
       "0                  2.0  \n",
       "1                  2.0  \n",
       "2                 22.0  \n",
       "3                  2.0  \n",
       "4                  2.0  \n",
       "\n",
       "[5 rows x 50 columns]"
      ]
     },
     "execution_count": 6,
     "metadata": {},
     "output_type": "execute_result"
    }
   ],
   "source": [
    "test.head()"
   ]
  },
  {
   "cell_type": "code",
   "execution_count": 7,
   "id": "139a81e0",
   "metadata": {},
   "outputs": [
    {
     "name": "stdout",
     "output_type": "stream",
     "text": [
      "Column: AGN_CNT_RCT_12_MON  Description: Numerical\n",
      "Column: ICO_CUR_MON_ACM_TRX_TM  Description: Numerical\n",
      "Column: NB_RCT_3_MON_LGN_TMS_AGV  Description: Numerical\n",
      "Column: AGN_CUR_YEAR_AMT  Description: Numerical\n",
      "Column: AGN_CUR_YEAR_WAG_AMT  Description: Numerical\n",
      "Column: AGN_AGR_LATEST_AGN_AMT  Description: Numerical\n",
      "Column: ICO_CUR_MON_ACM_TRX_AMT  Description: Numerical\n",
      "Column: COUNTER_CUR_YEAR_CNT_AMT  Description: Numerical\n",
      "Column: PUB_TO_PRV_TRX_AMT_CUR_YEAR  Description: Numerical\n",
      "Column: MON_12_EXT_SAM_TRSF_IN_AMT  Description: Numerical\n",
      "Column: MON_12_EXT_SAM_TRSF_OUT_AMT  Description: Numerical\n",
      "Column: MON_12_EXT_SAM_NM_TRSF_OUT_CNT  Description: Numerical\n",
      "Column: MON_12_EXT_SAM_AMT  Description: Numerical\n",
      "Column: CUR_MON_EXT_SAM_CUST_TRSF_IN_AMT  Description: Numerical\n",
      "Column: CUR_MON_EXT_SAM_CUST_TRSF_OUT_AMT  Description: Numerical\n",
      "Column: MON_12_CUST_CNT_PTY_ID  Description: Categorical\n",
      "Column: MON_12_TRX_AMT_MAX_AMT_PCTT  Description: Numerical\n",
      "Column: CUR_YEAR_MON_AGV_TRX_CNT  Description: Numerical\n",
      "Column: MON_12_AGV_TRX_CNT  Description: Numerical\n",
      "Column: MON_12_ACM_ENTR_ACT_CNT  Description: Numerical\n",
      "Column: MON_12_AGV_ENTR_ACT_CNT  Description: Numerical\n",
      "Column: MON_12_ACM_LVE_ACT_CNT  Description: Numerical\n",
      "Column: MON_12_AGV_LVE_ACT_CNT  Description: Numerical\n",
      "Column: CUR_YEAR_PUB_TO_PRV_TRX_PTY_CNT  Description: Numerical\n",
      "Column: MON_6_50_UP_ENTR_ACT_CNT  Description: Numerical\n",
      "Column: MON_6_50_UP_LVE_ACT_CNT  Description: Numerical\n",
      "Column: CUR_YEAR_COUNTER_ENCASH_CNT  Description: Numerical\n",
      "Column: MON_12_ACT_OUT_50_UP_CNT_PTY_QTY  Description: Numerical\n",
      "Column: MON_12_ACT_IN_50_UP_CNT_PTY_QTY  Description: Numerical\n",
      "Column: LAST_12_MON_COR_DPS_TM_PNT_BAL_PEAK_VAL  Description: Numerical\n",
      "Column: CUR_MON_VAL_VLD_CUST_NED_HLD_YEAR_DAY_AVG  Description: Numerical\n",
      "Column: LAST_12_MON_COR_DPS_DAY_AVG_BAL  Description: Numerical\n",
      "Column: CUR_MON_COR_DPS_MON_DAY_AVG_BAL  Description: Numerical\n",
      "Column: CUR_YEAR_COR_DMND_DPS_DAY_AVG_BAL  Description: Numerical\n",
      "Column: CUR_YEAR_COR_DPS_YEAR_DAY_AVG_INCR  Description: Numerical\n",
      "Column: LAST_12_MON_DIF_NM_MON_AVG_TRX_AMT_NAV  Description: Numerical\n",
      "Column: LAST_12_MON_MON_AVG_TRX_AMT_NAV  Description: Numerical\n",
      "Column: COR_KEY_PROD_HLD_NBR  Description: Numerical\n",
      "Column: CUR_YEAR_MID_BUS_INC  Description: Numerical\n",
      "Column: AI_STAR_SCO  Description: Categorical\n",
      "Column: WTHR_OPN_ONL_ICO  Description: Categorical\n",
      "Column: EMP_NBR  Description: Numerical\n",
      "Column: REG_CPT  Description: Numerical\n",
      "Column: SHH_BCK  Description: Categorical\n",
      "Column: HLD_DMS_CCY_ACT_NBR  Description: Numerical\n",
      "Column: REG_DT  Description: Numerical\n",
      "Column: LGP_HLD_CARD_LVL  Description: Categorical\n",
      "Column: OPN_TM  Description: Numerical\n",
      "Column: NB_CTC_HLD_IDV_AIO_CARD_SITU  Description: Categorical\n",
      "Column: HLD_FGN_CCY_ACT_NBR  Description: Numerical\n"
     ]
    }
   ],
   "source": [
    "df = pd.read_excel('inputs/feature_explain.xlsx', sheet_name='train', skiprows=2)\n",
    "for va in df.values:\n",
    "    print('Column:', va[0], ' Description:', va[1])"
   ]
  },
  {
   "cell_type": "code",
   "execution_count": 8,
   "id": "e4b75ef8",
   "metadata": {},
   "outputs": [],
   "source": [
    "# for va in df.values:\n",
    "#     if va[1]=='Categorical':\n",
    "#         print(va[0],end=\"','\")"
   ]
  },
  {
   "cell_type": "code",
   "execution_count": 9,
   "id": "6edc33f7",
   "metadata": {},
   "outputs": [],
   "source": [
    "#为数值型特征\n",
    "#train['AGN_CNT_RCT_12_MON','ICO_CUR_MON_ACM_TRX_TM','NB_RCT_3_MON_LGN_TMS_AGV','AGN_CUR_YEAR_AMT','AGN_CUR_YEAR_WAG_AMT','AGN_AGR_LATEST_AGN_AMT','ICO_CUR_MON_ACM_TRX_AMT','COUNTER_CUR_YEAR_CNT_AMT','PUB_TO_PRV_TRX_AMT_CUR_YEAR','MON_12_EXT_SAM_TRSF_IN_AMT','MON_12_EXT_SAM_TRSF_OUT_AMT','MON_12_EXT_SAM_NM_TRSF_OUT_CNT','MON_12_EXT_SAM_AMT','CUR_MON_EXT_SAM_CUST_TRSF_IN_AMT','CUR_MON_EXT_SAM_CUST_TRSF_OUT_AMT','MON_12_TRX_AMT_MAX_AMT_PCTT','CUR_YEAR_MON_AGV_TRX_CNT','MON_12_AGV_TRX_CNT','MON_12_ACM_ENTR_ACT_CNT','MON_12_AGV_ENTR_ACT_CNT','MON_12_ACM_LVE_ACT_CNT','MON_12_AGV_LVE_ACT_CNT','CUR_YEAR_PUB_TO_PRV_TRX_PTY_CNT','MON_6_50_UP_ENTR_ACT_CNT','MON_6_50_UP_LVE_ACT_CNT','CUR_YEAR_COUNTER_ENCASH_CNT','MON_12_ACT_OUT_50_UP_CNT_PTY_QTY','MON_12_ACT_IN_50_UP_CNT_PTY_QTY','LAST_12_MON_COR_DPS_TM_PNT_BAL_PEAK_VAL','CUR_MON_VAL_VLD_CUST_NED_HLD_YEAR_DAY_AVG','LAST_12_MON_COR_DPS_DAY_AVG_BAL','CUR_MON_COR_DPS_MON_DAY_AVG_BAL','CUR_YEAR_COR_DMND_DPS_DAY_AVG_BAL','CUR_YEAR_COR_DPS_YEAR_DAY_AVG_INCR','LAST_12_MON_DIF_NM_MON_AVG_TRX_AMT_NAV','LAST_12_MON_MON_AVG_TRX_AMT_NAV','COR_KEY_PROD_HLD_NBR','CUR_YEAR_MID_BUS_INC','EMP_NBR','REG_CPT','HLD_DMS_CCY_ACT_NBR','REG_DT','OPN_TM','HLD_FGN_CCY_ACT_NBR']\n",
    "#为类别型特征\n",
    "#train['MON_12_CUST_CNT_PTY_ID','AI_STAR_SCO','WTHR_OPN_ONL_ICO','SHH_BCK','LGP_HLD_CARD_LVL','NB_CTC_HLD_IDV_AIO_CARD_SITU']"
   ]
  },
  {
   "cell_type": "code",
   "execution_count": 10,
   "id": "7b5ae14b",
   "metadata": {},
   "outputs": [],
   "source": [
    "assert train['CUST_UID'].nunique() == train['CUST_UID'].shape[0]\n",
    "assert test['CUST_UID'].nunique() == test['CUST_UID'].shape[0]\n",
    "assert test['CUST_UID'].nunique()+ train['CUST_UID'].nunique()  == len(set(test['CUST_UID'].values.tolist()+ \\\n",
    "                                                                         train['CUST_UID'].values.tolist()))"
   ]
  },
  {
   "cell_type": "code",
   "execution_count": 11,
   "id": "8e93671e",
   "metadata": {},
   "outputs": [
    {
     "data": {
      "text/plain": [
       "CUST_UID                                       0\n",
       "LABEL                                          0\n",
       "AGN_CNT_RCT_12_MON                         21408\n",
       "ICO_CUR_MON_ACM_TRX_TM                      3503\n",
       "NB_RCT_3_MON_LGN_TMS_AGV                    3815\n",
       "AGN_CUR_YEAR_AMT                           22541\n",
       "AGN_CUR_YEAR_WAG_AMT                       27985\n",
       "AGN_AGR_LATEST_AGN_AMT                     19593\n",
       "ICO_CUR_MON_ACM_TRX_AMT                     3503\n",
       "COUNTER_CUR_YEAR_CNT_AMT                     946\n",
       "PUB_TO_PRV_TRX_AMT_CUR_YEAR                  946\n",
       "MON_12_EXT_SAM_TRSF_IN_AMT                   254\n",
       "MON_12_EXT_SAM_TRSF_OUT_AMT                  254\n",
       "MON_12_EXT_SAM_NM_TRSF_OUT_CNT               254\n",
       "MON_12_EXT_SAM_AMT                           254\n",
       "CUR_MON_EXT_SAM_CUST_TRSF_IN_AMT             946\n",
       "CUR_MON_EXT_SAM_CUST_TRSF_OUT_AMT            946\n",
       "MON_12_CUST_CNT_PTY_ID                     22941\n",
       "MON_12_TRX_AMT_MAX_AMT_PCTT                 9600\n",
       "CUR_YEAR_MON_AGV_TRX_CNT                     946\n",
       "MON_12_AGV_TRX_CNT                           254\n",
       "MON_12_ACM_ENTR_ACT_CNT                      254\n",
       "MON_12_AGV_ENTR_ACT_CNT                      254\n",
       "MON_12_ACM_LVE_ACT_CNT                       254\n",
       "MON_12_AGV_LVE_ACT_CNT                       254\n",
       "CUR_YEAR_PUB_TO_PRV_TRX_PTY_CNT            20136\n",
       "MON_6_50_UP_ENTR_ACT_CNT                    6620\n",
       "MON_6_50_UP_LVE_ACT_CNT                     6620\n",
       "CUR_YEAR_COUNTER_ENCASH_CNT                  946\n",
       "MON_12_ACT_OUT_50_UP_CNT_PTY_QTY            5860\n",
       "MON_12_ACT_IN_50_UP_CNT_PTY_QTY             5860\n",
       "LAST_12_MON_COR_DPS_TM_PNT_BAL_PEAK_VAL      114\n",
       "LAST_12_MON_COR_DPS_DAY_AVG_BAL              114\n",
       "CUR_MON_COR_DPS_MON_DAY_AVG_BAL              116\n",
       "CUR_YEAR_COR_DMND_DPS_DAY_AVG_BAL            211\n",
       "CUR_YEAR_COR_DPS_YEAR_DAY_AVG_INCR           113\n",
       "LAST_12_MON_DIF_NM_MON_AVG_TRX_AMT_NAV       254\n",
       "LAST_12_MON_MON_AVG_TRX_AMT_NAV              254\n",
       "COR_KEY_PROD_HLD_NBR                         336\n",
       "CUR_YEAR_MID_BUS_INC                          21\n",
       "AI_STAR_SCO                                  413\n",
       "WTHR_OPN_ONL_ICO                            1342\n",
       "EMP_NBR                                      106\n",
       "REG_CPT                                     3732\n",
       "SHH_BCK                                      106\n",
       "HLD_DMS_CCY_ACT_NBR                          114\n",
       "REG_DT                                      1938\n",
       "LGP_HLD_CARD_LVL                           16752\n",
       "OPN_TM                                       113\n",
       "NB_CTC_HLD_IDV_AIO_CARD_SITU                6833\n",
       "HLD_FGN_CCY_ACT_NBR                          114\n",
       "dtype: int64"
      ]
     },
     "execution_count": 11,
     "metadata": {},
     "output_type": "execute_result"
    }
   ],
   "source": [
    "train.isnull().sum()"
   ]
  },
  {
   "cell_type": "code",
   "execution_count": 12,
   "id": "36a01b5d",
   "metadata": {},
   "outputs": [
    {
     "data": {
      "text/plain": [
       "CUST_UID                                      0\n",
       "AGN_CNT_RCT_12_MON                         6441\n",
       "ICO_CUR_MON_ACM_TRX_TM                     1023\n",
       "NB_RCT_3_MON_LGN_TMS_AGV                   1103\n",
       "AGN_CUR_YEAR_AMT                           6779\n",
       "AGN_CUR_YEAR_WAG_AMT                       8417\n",
       "AGN_AGR_LATEST_AGN_AMT                     5895\n",
       "ICO_CUR_MON_ACM_TRX_AMT                    1023\n",
       "COUNTER_CUR_YEAR_CNT_AMT                    301\n",
       "PUB_TO_PRV_TRX_AMT_CUR_YEAR                 301\n",
       "MON_12_EXT_SAM_TRSF_IN_AMT                   73\n",
       "MON_12_EXT_SAM_TRSF_OUT_AMT                  73\n",
       "MON_12_EXT_SAM_NM_TRSF_OUT_CNT               73\n",
       "MON_12_EXT_SAM_AMT                           73\n",
       "CUR_MON_EXT_SAM_CUST_TRSF_IN_AMT            301\n",
       "CUR_MON_EXT_SAM_CUST_TRSF_OUT_AMT           301\n",
       "MON_12_CUST_CNT_PTY_ID                     6960\n",
       "MON_12_TRX_AMT_MAX_AMT_PCTT                2842\n",
       "CUR_YEAR_MON_AGV_TRX_CNT                    301\n",
       "MON_12_AGV_TRX_CNT                           73\n",
       "MON_12_ACM_ENTR_ACT_CNT                      73\n",
       "MON_12_AGV_ENTR_ACT_CNT                      73\n",
       "MON_12_ACM_LVE_ACT_CNT                       73\n",
       "MON_12_AGV_LVE_ACT_CNT                       73\n",
       "CUR_YEAR_PUB_TO_PRV_TRX_PTY_CNT            6050\n",
       "MON_6_50_UP_ENTR_ACT_CNT                   1914\n",
       "MON_6_50_UP_LVE_ACT_CNT                    1914\n",
       "CUR_YEAR_COUNTER_ENCASH_CNT                 301\n",
       "MON_12_ACT_OUT_50_UP_CNT_PTY_QTY           1686\n",
       "MON_12_ACT_IN_50_UP_CNT_PTY_QTY            1686\n",
       "LAST_12_MON_COR_DPS_TM_PNT_BAL_PEAK_VAL      29\n",
       "LAST_12_MON_COR_DPS_DAY_AVG_BAL              29\n",
       "CUR_MON_COR_DPS_MON_DAY_AVG_BAL              29\n",
       "CUR_YEAR_COR_DMND_DPS_DAY_AVG_BAL            64\n",
       "CUR_YEAR_COR_DPS_YEAR_DAY_AVG_INCR           29\n",
       "LAST_12_MON_DIF_NM_MON_AVG_TRX_AMT_NAV       73\n",
       "LAST_12_MON_MON_AVG_TRX_AMT_NAV              73\n",
       "COR_KEY_PROD_HLD_NBR                         85\n",
       "CUR_YEAR_MID_BUS_INC                          9\n",
       "AI_STAR_SCO                                 105\n",
       "WTHR_OPN_ONL_ICO                            392\n",
       "EMP_NBR                                      28\n",
       "REG_CPT                                    1100\n",
       "SHH_BCK                                      28\n",
       "HLD_DMS_CCY_ACT_NBR                          29\n",
       "REG_DT                                      533\n",
       "LGP_HLD_CARD_LVL                           4984\n",
       "OPN_TM                                       29\n",
       "NB_CTC_HLD_IDV_AIO_CARD_SITU               1973\n",
       "HLD_FGN_CCY_ACT_NBR                          29\n",
       "dtype: int64"
      ]
     },
     "execution_count": 12,
     "metadata": {},
     "output_type": "execute_result"
    }
   ],
   "source": [
    "test.isnull().sum()"
   ]
  },
  {
   "cell_type": "code",
   "execution_count": 13,
   "id": "e3efa839",
   "metadata": {},
   "outputs": [
    {
     "ename": "NameError",
     "evalue": "name 'train_df' is not defined",
     "output_type": "error",
     "traceback": [
      "\u001b[1;31m---------------------------------------------------------------------------\u001b[0m",
      "\u001b[1;31mNameError\u001b[0m                                 Traceback (most recent call last)",
      "\u001b[1;32m~\\AppData\\Local\\Temp/ipykernel_4044/2325068717.py\u001b[0m in \u001b[0;36m<module>\u001b[1;34m\u001b[0m\n\u001b[0;32m      1\u001b[0m \u001b[1;31m#train_df['AGN_CNT_RCT_12_MON','ICO_CUR_MON_ACM_TRX_TM','NB_RCT_3_MON_LGN_TMS_AGV','AGN_CUR_YEAR_AMT','AGN_CUR_YEAR_WAG_AMT','AGN_AGR_LATEST_AGN_AMT','ICO_CUR_MON_ACM_TRX_AMT','COUNTER_CUR_YEAR_CNT_AMT','PUB_TO_PRV_TRX_AMT_CUR_YEAR','MON_12_EXT_SAM_TRSF_IN_AMT','MON_12_EXT_SAM_TRSF_OUT_AMT','MON_12_EXT_SAM_NM_TRSF_OUT_CNT','MON_12_EXT_SAM_AMT','CUR_MON_EXT_SAM_CUST_TRSF_IN_AMT','CUR_MON_EXT_SAM_CUST_TRSF_OUT_AMT','MON_12_TRX_AMT_MAX_AMT_PCTT','CUR_YEAR_MON_AGV_TRX_CNT','MON_12_AGV_TRX_CNT','MON_12_ACM_ENTR_ACT_CNT','MON_12_AGV_ENTR_ACT_CNT','MON_12_ACM_LVE_ACT_CNT','MON_12_AGV_LVE_ACT_CNT','CUR_YEAR_PUB_TO_PRV_TRX_PTY_CNT','MON_6_50_UP_ENTR_ACT_CNT','MON_6_50_UP_LVE_ACT_CNT','CUR_YEAR_COUNTER_ENCASH_CNT','MON_12_ACT_OUT_50_UP_CNT_PTY_QTY','MON_12_ACT_IN_50_UP_CNT_PTY_QTY','LAST_12_MON_COR_DPS_TM_PNT_BAL_PEAK_VAL','CUR_MON_VAL_VLD_CUST_NED_HLD_YEAR_DAY_AVG','LAST_12_MON_COR_DPS_DAY_AVG_BAL','CUR_MON_COR_DPS_MON_DAY_AVG_BAL','CUR_YEAR_COR_DMND_DPS_DAY_AVG_BAL','CUR_YEAR_COR_DPS_YEAR_DAY_AVG_INCR','LAST_12_MON_DIF_NM_MON_AVG_TRX_AMT_NAV','LAST_12_MON_MON_AVG_TRX_AMT_NAV','COR_KEY_PROD_HLD_NBR','CUR_YEAR_MID_BUS_INC','EMP_NBR','REG_CPT','HLD_DMS_CCY_ACT_NBR','REG_DT','OPN_TM','HLD_FGN_CCY_ACT_NBR']=pd.to_numeric(train['AGN_CNT_RCT_12_MON','ICO_CUR_MON_ACM_TRX_TM','NB_RCT_3_MON_LGN_TMS_AGV','AGN_CUR_YEAR_AMT','AGN_CUR_YEAR_WAG_AMT','AGN_AGR_LATEST_AGN_AMT','ICO_CUR_MON_ACM_TRX_AMT','COUNTER_CUR_YEAR_CNT_AMT','PUB_TO_PRV_TRX_AMT_CUR_YEAR','MON_12_EXT_SAM_TRSF_IN_AMT','MON_12_EXT_SAM_TRSF_OUT_AMT','MON_12_EXT_SAM_NM_TRSF_OUT_CNT','MON_12_EXT_SAM_AMT','CUR_MON_EXT_SAM_CUST_TRSF_IN_AMT','CUR_MON_EXT_SAM_CUST_TRSF_OUT_AMT','MON_12_TRX_AMT_MAX_AMT_PCTT','CUR_YEAR_MON_AGV_TRX_CNT','MON_12_AGV_TRX_CNT','MON_12_ACM_ENTR_ACT_CNT','MON_12_AGV_ENTR_ACT_CNT','MON_12_ACM_LVE_ACT_CNT','MON_12_AGV_LVE_ACT_CNT','CUR_YEAR_PUB_TO_PRV_TRX_PTY_CNT','MON_6_50_UP_ENTR_ACT_CNT','MON_6_50_UP_LVE_ACT_CNT','CUR_YEAR_COUNTER_ENCASH_CNT','MON_12_ACT_OUT_50_UP_CNT_PTY_QTY','MON_12_ACT_IN_50_UP_CNT_PTY_QTY','LAST_12_MON_COR_DPS_TM_PNT_BAL_PEAK_VAL','CUR_MON_VAL_VLD_CUST_NED_HLD_YEAR_DAY_AVG','LAST_12_MON_COR_DPS_DAY_AVG_BAL','CUR_MON_COR_DPS_MON_DAY_AVG_BAL','CUR_YEAR_COR_DMND_DPS_DAY_AVG_BAL','CUR_YEAR_COR_DPS_YEAR_DAY_AVG_INCR','LAST_12_MON_DIF_NM_MON_AVG_TRX_AMT_NAV','LAST_12_MON_MON_AVG_TRX_AMT_NAV','COR_KEY_PROD_HLD_NBR','CUR_YEAR_MID_BUS_INC','EMP_NBR','REG_CPT','HLD_DMS_CCY_ACT_NBR','REG_DT','OPN_TM','HLD_FGN_CCY_ACT_NBR'])\u001b[0m\u001b[1;33m\u001b[0m\u001b[1;33m\u001b[0m\u001b[0m\n\u001b[1;32m----> 2\u001b[1;33m \u001b[0mtrain_df\u001b[0m\u001b[1;33m[\u001b[0m\u001b[1;34m'AGN_CNT_RCT_12_MON'\u001b[0m\u001b[1;33m]\u001b[0m\u001b[1;33m=\u001b[0m\u001b[0mpd\u001b[0m\u001b[1;33m.\u001b[0m\u001b[0mto_numeric\u001b[0m\u001b[1;33m(\u001b[0m\u001b[0mtrain\u001b[0m\u001b[1;33m[\u001b[0m\u001b[1;34m'AGN_CNT_RCT_12_MON'\u001b[0m\u001b[1;33m]\u001b[0m\u001b[1;33m)\u001b[0m\u001b[1;33m\u001b[0m\u001b[1;33m\u001b[0m\u001b[0m\n\u001b[0m",
      "\u001b[1;31mNameError\u001b[0m: name 'train_df' is not defined"
     ]
    }
   ],
   "source": [
    "#train_df['AGN_CNT_RCT_12_MON','ICO_CUR_MON_ACM_TRX_TM','NB_RCT_3_MON_LGN_TMS_AGV','AGN_CUR_YEAR_AMT','AGN_CUR_YEAR_WAG_AMT','AGN_AGR_LATEST_AGN_AMT','ICO_CUR_MON_ACM_TRX_AMT','COUNTER_CUR_YEAR_CNT_AMT','PUB_TO_PRV_TRX_AMT_CUR_YEAR','MON_12_EXT_SAM_TRSF_IN_AMT','MON_12_EXT_SAM_TRSF_OUT_AMT','MON_12_EXT_SAM_NM_TRSF_OUT_CNT','MON_12_EXT_SAM_AMT','CUR_MON_EXT_SAM_CUST_TRSF_IN_AMT','CUR_MON_EXT_SAM_CUST_TRSF_OUT_AMT','MON_12_TRX_AMT_MAX_AMT_PCTT','CUR_YEAR_MON_AGV_TRX_CNT','MON_12_AGV_TRX_CNT','MON_12_ACM_ENTR_ACT_CNT','MON_12_AGV_ENTR_ACT_CNT','MON_12_ACM_LVE_ACT_CNT','MON_12_AGV_LVE_ACT_CNT','CUR_YEAR_PUB_TO_PRV_TRX_PTY_CNT','MON_6_50_UP_ENTR_ACT_CNT','MON_6_50_UP_LVE_ACT_CNT','CUR_YEAR_COUNTER_ENCASH_CNT','MON_12_ACT_OUT_50_UP_CNT_PTY_QTY','MON_12_ACT_IN_50_UP_CNT_PTY_QTY','LAST_12_MON_COR_DPS_TM_PNT_BAL_PEAK_VAL','CUR_MON_VAL_VLD_CUST_NED_HLD_YEAR_DAY_AVG','LAST_12_MON_COR_DPS_DAY_AVG_BAL','CUR_MON_COR_DPS_MON_DAY_AVG_BAL','CUR_YEAR_COR_DMND_DPS_DAY_AVG_BAL','CUR_YEAR_COR_DPS_YEAR_DAY_AVG_INCR','LAST_12_MON_DIF_NM_MON_AVG_TRX_AMT_NAV','LAST_12_MON_MON_AVG_TRX_AMT_NAV','COR_KEY_PROD_HLD_NBR','CUR_YEAR_MID_BUS_INC','EMP_NBR','REG_CPT','HLD_DMS_CCY_ACT_NBR','REG_DT','OPN_TM','HLD_FGN_CCY_ACT_NBR']=pd.to_numeric(train['AGN_CNT_RCT_12_MON','ICO_CUR_MON_ACM_TRX_TM','NB_RCT_3_MON_LGN_TMS_AGV','AGN_CUR_YEAR_AMT','AGN_CUR_YEAR_WAG_AMT','AGN_AGR_LATEST_AGN_AMT','ICO_CUR_MON_ACM_TRX_AMT','COUNTER_CUR_YEAR_CNT_AMT','PUB_TO_PRV_TRX_AMT_CUR_YEAR','MON_12_EXT_SAM_TRSF_IN_AMT','MON_12_EXT_SAM_TRSF_OUT_AMT','MON_12_EXT_SAM_NM_TRSF_OUT_CNT','MON_12_EXT_SAM_AMT','CUR_MON_EXT_SAM_CUST_TRSF_IN_AMT','CUR_MON_EXT_SAM_CUST_TRSF_OUT_AMT','MON_12_TRX_AMT_MAX_AMT_PCTT','CUR_YEAR_MON_AGV_TRX_CNT','MON_12_AGV_TRX_CNT','MON_12_ACM_ENTR_ACT_CNT','MON_12_AGV_ENTR_ACT_CNT','MON_12_ACM_LVE_ACT_CNT','MON_12_AGV_LVE_ACT_CNT','CUR_YEAR_PUB_TO_PRV_TRX_PTY_CNT','MON_6_50_UP_ENTR_ACT_CNT','MON_6_50_UP_LVE_ACT_CNT','CUR_YEAR_COUNTER_ENCASH_CNT','MON_12_ACT_OUT_50_UP_CNT_PTY_QTY','MON_12_ACT_IN_50_UP_CNT_PTY_QTY','LAST_12_MON_COR_DPS_TM_PNT_BAL_PEAK_VAL','CUR_MON_VAL_VLD_CUST_NED_HLD_YEAR_DAY_AVG','LAST_12_MON_COR_DPS_DAY_AVG_BAL','CUR_MON_COR_DPS_MON_DAY_AVG_BAL','CUR_YEAR_COR_DMND_DPS_DAY_AVG_BAL','CUR_YEAR_COR_DPS_YEAR_DAY_AVG_INCR','LAST_12_MON_DIF_NM_MON_AVG_TRX_AMT_NAV','LAST_12_MON_MON_AVG_TRX_AMT_NAV','COR_KEY_PROD_HLD_NBR','CUR_YEAR_MID_BUS_INC','EMP_NBR','REG_CPT','HLD_DMS_CCY_ACT_NBR','REG_DT','OPN_TM','HLD_FGN_CCY_ACT_NBR'])\n",
    "train_df['AGN_CNT_RCT_12_MON']=pd.to_numeric(train['AGN_CNT_RCT_12_MON'])"
   ]
  },
  {
   "cell_type": "code",
   "execution_count": 19,
   "id": "08dc0931",
   "metadata": {},
   "outputs": [
    {
     "data": {
      "image/png": "[encoded data removed]",
      "text/plain": [
       "<Figure size 432x288 with 1 Axes>"
      ]
     },
     "metadata": {
      "needs_background": "light"
     },
     "output_type": "display_data"
    },
    {
     "data": {
      "image/png": "[encoded data removed]",
      "text/plain": [
       "<Figure size 432x288 with 1 Axes>"
      ]
     },
     "metadata": {
      "needs_background": "light"
     },
     "output_type": "display_data"
    },
    {
     "data": {
      "image/png": "[encoded data removed]",
      "text/plain": [
       "<Figure size 432x288 with 1 Axes>"
      ]
     },
     "metadata": {
      "needs_background": "light"
     },
     "output_type": "display_data"
    },
    {
     "data": {
      "image/png": "[encoded data removed]",
      "text/plain": [
       "<Figure size 432x288 with 1 Axes>"
      ]
     },
     "metadata": {
      "needs_background": "light"
     },
     "output_type": "display_data"
    },
    {
     "data": {
      "image/png": "[encoded data removed]",
      "text/plain": [
       "<Figure size 432x288 with 1 Axes>"
      ]
     },
     "metadata": {
      "needs_background": "light"
     },
     "output_type": "display_data"
    },
    {
     "data": {
      "image/png": "[encoded data removed]",
      "text/plain": [
       "<Figure size 432x288 with 1 Axes>"
      ]
     },
     "metadata": {
      "needs_background": "light"
     },
     "output_type": "display_data"
    }
   ],
   "source": [
    "# 在这里记录一下下一步要做什么\n",
    "# 处理缺失值，（异常值先不作处理）\n",
    "features = ['MON_12_CUST_CNT_PTY_ID','AI_STAR_SCO','WTHR_OPN_ONL_ICO','SHH_BCK','LGP_HLD_CARD_LVL','NB_CTC_HLD_IDV_AIO_CARD_SITU']\n",
    "train_count=train.shape[0]\n",
    "test_count=test.shape[0]\n",
    "for feature in features:\n",
    "    train[feature].value_counts().sort_index().plot()\n",
    "    test[feature].value_counts().sort_index().plot()\n",
    "    plt.xlabel(feature)\n",
    "    plt.legend(['train','test'])\n",
    "    plt.ylabel('count')\n",
    "    plt.show()"
   ]
  },
  {
   "cell_type": "code",
   "execution_count": 27,
   "id": "cfea41cf",
   "metadata": {},
   "outputs": [
    {
     "name": "stdout",
     "output_type": "stream",
     "text": [
      "F    22941\n",
      "Y    17059\n",
      "Name: MON_12_CUST_CNT_PTY_ID, dtype: int64\n",
      "MON_12_CUST_CNT_PTY_ID=Y:\n",
      "0    14102\n",
      "1     2957\n",
      "Name: LABEL, dtype: int64\n",
      "MON_12_CUST_CNT_PTY_ID=null:\n",
      "Series([], Name: LABEL, dtype: int64)\n"
     ]
    }
   ],
   "source": [
    "print(train['MON_12_CUST_CNT_PTY_ID'].value_counts())\n",
    "# MON_12_CUST_CNT_PTY_ID这个特征仅有Y和空值，这里看一下label据有值和无值的分布\n",
    "print(\"MON_12_CUST_CNT_PTY_ID=Y:\")\n",
    "print(train[train['MON_12_CUST_CNT_PTY_ID']=='Y']['LABEL'].value_counts())\n",
    "print(\"MON_12_CUST_CNT_PTY_ID=null:\")\n",
    "print(train[train['MON_12_CUST_CNT_PTY_ID'].isnull()]['LABEL'].value_counts())\n",
    "# 可以看出分布并不相同，因此这里把缺失值算入另一种特征"
   ]
  },
  {
   "cell_type": "code",
   "execution_count": 28,
   "id": "453246b8",
   "metadata": {},
   "outputs": [],
   "source": [
    "# train.loc[[train['MON_12_CUST_CNT_PTY_ID'].isnull()],'MON_12_CUST_CNT_PTY_ID']='F'\n",
    "train.loc[train['MON_12_CUST_CNT_PTY_ID'].isnull(),'MON_12_CUST_CNT_PTY_ID']='F'\n",
    "test.loc[train['MON_12_CUST_CNT_PTY_ID'].isnull(),'MON_12_CUST_CNT_PTY_ID']='F'"
   ]
  },
  {
   "cell_type": "code",
   "execution_count": 29,
   "id": "cb9277ca",
   "metadata": {},
   "outputs": [
    {
     "data": {
      "text/plain": [
       "F    22941\n",
       "Y    17059\n",
       "Name: MON_12_CUST_CNT_PTY_ID, dtype: int64"
      ]
     },
     "execution_count": 29,
     "metadata": {},
     "output_type": "execute_result"
    }
   ],
   "source": [
    "train['MON_12_CUST_CNT_PTY_ID'].value_counts()"
   ]
  },
  {
   "cell_type": "code",
   "execution_count": null,
   "id": "e15e0806",
   "metadata": {},
   "outputs": [],
   "source": [
    "# 再画个图\n",
    "features = ['MON_12_CUST_CNT_PTY_ID','AI_STAR_SCO','WTHR_OPN_ONL_ICO','SHH_BCK','LGP_HLD_CARD_LVL','NB_CTC_HLD_IDV_AIO_CARD_SITU']\n",
    "train_count=train.shape[0]\n",
    "test_count=test.shape[0]\n",
    "for feature in features:\n",
    "    train[feature].value_counts().sort_index().plot()\n",
    "    test[feature].value_counts().sort_index().plot()\n",
    "    plt.xlabel(feature)\n",
    "    plt.legend(['train','test'])\n",
    "    plt.ylabel('count')\n",
    "    plt.show()"
   ]
  }
 ],
 "metadata": {
  "kernelspec": {
   "display_name": "Python 3 (ipykernel)",
   "language": "python",
   "name": "python3"
  },
  "language_info": {
   "codemirror_mode": {
    "name": "ipython",
    "version": 3
   },
   "file_extension": ".py",
   "mimetype": "text/x-python",
   "name": "python",
   "nbconvert_exporter": "python",
   "pygments_lexer": "ipython3",
   "version": "3.9.7"
  }
 },
 "nbformat": 4,
 "nbformat_minor": 5
}
